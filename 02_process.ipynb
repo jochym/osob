{
 "cells": [
  {
   "cell_type": "code",
   "execution_count": null,
   "metadata": {},
   "outputs": [],
   "source": [
    "# default_exp process"
   ]
  },
  {
   "cell_type": "markdown",
   "metadata": {},
   "source": [
    "# process\n",
    "\n",
    ">Image processing submodule"
   ]
  },
  {
   "cell_type": "code",
   "execution_count": null,
   "metadata": {},
   "outputs": [
    {
     "name": "stdout",
     "output_type": "stream",
     "text": [
      "Populating the interactive namespace from numpy and matplotlib\n"
     ]
    }
   ],
   "source": [
    "%pylab inline\n",
    "%load_ext autoreload\n",
    "%autoreload 2"
   ]
  },
  {
   "cell_type": "code",
   "execution_count": null,
   "metadata": {},
   "outputs": [],
   "source": [
    "#hide\n",
    "from nbdev.showdoc import *\n",
    "from nbdev import *"
   ]
  },
  {
   "cell_type": "code",
   "execution_count": null,
   "metadata": {},
   "outputs": [],
   "source": [
    "#export\n",
    "import configparser\n",
    "from fastcore.basics import patch\n",
    "from os.path import expanduser\n",
    "from astroquery.astrometry_net import AstrometryNet\n",
    "from astroquery.exceptions import TimeoutError as ASTTimeoutError\n",
    "from osob.core import Telescope\n",
    "from osob.solver import Solver"
   ]
  },
  {
   "cell_type": "code",
   "execution_count": null,
   "metadata": {},
   "outputs": [],
   "source": [
    "from IPython import display"
   ]
  },
  {
   "cell_type": "code",
   "execution_count": null,
   "metadata": {},
   "outputs": [],
   "source": [
    "import time\n",
    "from datetime import datetime\n",
    "import os\n",
    "from requests import session\n",
    "from bs4 import BeautifulSoup\n",
    "from io import StringIO, BytesIO\n",
    "from zipfile import ZipFile\n",
    "from astropy.io import fits\n",
    "from astropy.coordinates import SkyCoord, Longitude, Latitude\n",
    "import astropy.units as u\n",
    "from astropy.wcs import WCS\n",
    "from astropy.io import fits\n",
    "from astropy.visualization import simple_norm\n",
    "from astroquery.vizier import Vizier\n",
    "from tqdm.auto import tqdm\n",
    "rcParams['image.cmap'] = 'gray'"
   ]
  },
  {
   "cell_type": "code",
   "execution_count": null,
   "metadata": {},
   "outputs": [],
   "source": [
    "from sqlitedict import SqliteDict"
   ]
  },
  {
   "cell_type": "code",
   "execution_count": null,
   "metadata": {},
   "outputs": [],
   "source": [
    "from photutils.detection import DAOStarFinder\n",
    "from astropy.stats import sigma_clipped_stats"
   ]
  },
  {
   "cell_type": "code",
   "execution_count": null,
   "metadata": {},
   "outputs": [],
   "source": [
    "from astropy.visualization import make_lupton_rgb"
   ]
  },
  {
   "cell_type": "code",
   "execution_count": null,
   "metadata": {},
   "outputs": [],
   "source": [
    "import astroalign as aa"
   ]
  },
  {
   "cell_type": "code",
   "execution_count": null,
   "metadata": {},
   "outputs": [],
   "source": []
  },
  {
   "cell_type": "code",
   "execution_count": null,
   "metadata": {},
   "outputs": [
    {
     "data": {
      "text/plain": [
       "['/home/jochym/.config/telescope.ini']"
      ]
     },
     "execution_count": null,
     "metadata": {},
     "output_type": "execute_result"
    }
   ],
   "source": [
    "#local\n",
    "config = configparser.ConfigParser()\n",
    "config.read(expanduser('~/.config/telescope.ini'))"
   ]
  },
  {
   "cell_type": "code",
   "execution_count": null,
   "metadata": {},
   "outputs": [],
   "source": [
    "#local\n",
    "OSO=Telescope(config['telescope.org']['user'], \n",
    "              config['telescope.org']['password'])"
   ]
  },
  {
   "cell_type": "code",
   "execution_count": null,
   "metadata": {},
   "outputs": [],
   "source": [
    "#local\n",
    "ast = AstrometryNet()\n",
    "ast.api_key = config['astrometry.net']['apikey']\n",
    "solver = Solver(config['astrometry.net']['apikey'])"
   ]
  },
  {
   "cell_type": "code",
   "execution_count": null,
   "metadata": {},
   "outputs": [],
   "source": [
    "from collections import namedtuple\n",
    "\n",
    "Job = namedtuple('Job', 'jid rid done')"
   ]
  },
  {
   "cell_type": "code",
   "execution_count": null,
   "metadata": {},
   "outputs": [],
   "source": [
    "DB = SqliteDict('telescope.sqlite', autocommit=True)\n",
    "VS = SqliteDict('vstars.sqlite', autocommit=True)"
   ]
  },
  {
   "cell_type": "code",
   "execution_count": null,
   "metadata": {},
   "outputs": [],
   "source": [
    "def make_color_image(layers, black=1.0, Q=5, stretch=200, mults=(0.95, 1.0, 1.0)):\n",
    "    r, g, b = (m*l for m,l in zip(mults,layers))\n",
    "    \n",
    "    try :\n",
    "        r_r, r_f = aa.register(r, g, detection_sigma=10)\n",
    "    except TypeError:\n",
    "        r_r = r\n",
    "        \n",
    "    try :\n",
    "        b_r, b_f = aa.register(b, g, detection_sigma=10)\n",
    "    except TypeError:\n",
    "        b_r = b\n",
    "        \n",
    "    minlev = array([sigma_clipped_stats(l, sigma=3.0)[1] for l in (r,g,b)])\n",
    "    return make_lupton_rgb(0.9*r_r, g, b_r, minimum=black*minlev, Q=Q, stretch=stretch)"
   ]
  },
  {
   "cell_type": "code",
   "execution_count": null,
   "metadata": {},
   "outputs": [],
   "source": [
    "def process_job(jid):\n",
    "    job = OSO.get_job(jid)\n",
    "    ctime = job['completion']\n",
    "    print(f'jid {jid}: (', OSO.get_request(int(job['rid'].split()[0][1:]))['name'], f')')\n",
    "    print(f'{\" \".join(ctime)}')\n",
    "    z = OSO.get_obs(job, cube=False, verbose=False)    \n",
    "    hdul=[fits.open(BytesIO(z.read(name)))[0] for name in z.namelist()]\n",
    "    print(f'Filters: {tuple(hdu.header[\"FILTER\"] for hdu in hdul)}')\n",
    "    if jid in DB :\n",
    "        print('Done')\n",
    "        display.clear_output(wait=True);\n",
    "        return\n",
    "    hi = min(1, len(hdul)-1)\n",
    "    wcs_head = solver.solve(hdul[hi])\n",
    "    if not wcs_head:\n",
    "        print('Cannot solve image')\n",
    "        OSO.get_obs(job, cube=True, verbose=False)\n",
    "        data = hdul[hi].data[:-32,:-32]\n",
    "        imshow(data, norm=simple_norm(data, 'asinh', asinh_a=0.01))\n",
    "        show();\n",
    "        return\n",
    "    w = WCS(wcs_head)\n",
    "    box = w.calc_footprint()\n",
    "    c = box.mean(axis=0)\n",
    "    s = box.max(axis=0) - box.min(axis=0)\n",
    "    result = Vizier.query_region(catalog='B/gcvs', \n",
    "                                 coordinates=SkyCoord(*c, unit='deg', frame='fk5'), \n",
    "                                 width=f'{s[0]}deg', height=f'{s[1]}deg')\n",
    "    for g in result:\n",
    "        for n, o in enumerate(g):\n",
    "            if 'Name' in o.keys():\n",
    "                name = o['Name']\n",
    "            elif 'GCVS' in o.keys():\n",
    "                name = ' '.join(o['GCVS'].split())\n",
    "            elif 'NSV' in o.keys():\n",
    "                name = f'NSV_{o[\"NSV\"]}'\n",
    "\n",
    "            #print(f'{name:12} {o[\"magMax\"]:6.2f} {o.keys()}')\n",
    "#             print(f'{name:12} {o[\"magMax\"]:6.2f}')\n",
    "    subplot(projection=w)\n",
    "    grid(color='white', ls='solid')\n",
    "    ax = gca()\n",
    "    for g in result:\n",
    "        #print(g)\n",
    "        for n, o in enumerate(g):\n",
    "            if 'Name' in o.keys():\n",
    "                name = o['Name']\n",
    "            elif 'GCVS' in o.keys():\n",
    "                name = ' '.join(o['GCVS'].split())\n",
    "            elif 'NSV' in o.keys():\n",
    "                name = f'NSV_{o[\"NSV\"]}'\n",
    "            else :\n",
    "                name = f'VS_{n}'\n",
    "            try : \n",
    "                try :\n",
    "                    radec = SkyCoord(o['RAJ2000'] + o['DEJ2000'], \n",
    "                                     frame='fk5', unit=(u.hourangle, u.deg))\n",
    "                except ValueError:\n",
    "                    radec = SkyCoord(o['RAJ2000'], o['DEJ2000'], \n",
    "                                     frame='fk5', unit=(u.deg, u.deg))\n",
    "            except KeyError:\n",
    "                    radec =  SkyCoord(o['_RA.icrs'] + o['_DE.icrs'], \n",
    "                                     frame='icrs', unit=(u.hourangle, u.deg))\n",
    "#                     radec =  SkyCoord(o['RAB1950'] + o['DEB1950'], \n",
    "#                                      frame='fk4', unit=(u.hourangle, u.deg))\n",
    "            ax.scatter(radec.ra.deg, radec.dec.deg, transform=ax.get_transform('icrs'), \n",
    "                       s=20, edgecolor='red', facecolor='none')\n",
    "#             ax.text(radec.ra.deg, radec.dec.deg, f'  {name} ({o[\"magMax\"]})', \n",
    "#                     transform=ax.get_transform('fk5'), color='red')\n",
    "    display.clear_output(wait=True)\n",
    "    print(f'jid {jid}: (', OSO.get_request(int(job['rid'].split()[0][1:]))['name'], f')')\n",
    "    print(f'{\" \".join(ctime)}')\n",
    "    print(f'Filters: {tuple(hdu.header[\"FILTER\"] for hdu in hdul)}')\n",
    "\n",
    "    try :\n",
    "        if len(hdul)==3:\n",
    "            imshow(make_color_image([hdu.data[:-32,:-32] for hdu in hdul]))\n",
    "        else :\n",
    "            data = hdul[hi].data[:-32,:-32]\n",
    "            imshow(data, norm=simple_norm(data, 'asinh', asinh_a=0.01))\n",
    "    except aa.MaxIterError:\n",
    "        data = hdul[hi].data[:-32,:-32]\n",
    "        imshow(data, norm=simple_norm(data, 'asinh', asinh_a=0.01))\n",
    "    DB[jid]=Job(jid, [int(rid[1:]) for rid in job['rid'].split()], True)\n",
    "    show()\n",
    "    display.display(gcf());    "
   ]
  },
  {
   "cell_type": "code",
   "execution_count": null,
   "metadata": {},
   "outputs": [
    {
     "name": "stdout",
     "output_type": "stream",
     "text": [
      "Number of users requests: 1189\n",
      "Completed: 1168\n"
     ]
    }
   ],
   "source": [
    "#local\n",
    "reqlst=OSO.get_user_requests(sort='completion')\n",
    "print(f'Number of users requests: {len(reqlst)}')\n",
    "\n",
    "complete = [rq for rq in sorted(reqlst, key=lambda r: int(r['requesttime']), reverse=True) \n",
    "                    if Telescope.REQUESTSTATUS_TEXTS[int(rq['status'])]=='Complete']\n",
    "print('Completed:', len(complete))"
   ]
  },
  {
   "cell_type": "code",
   "execution_count": null,
   "metadata": {},
   "outputs": [
    {
     "name": "stdout",
     "output_type": "stream",
     "text": [
      "jid 337501: ( BI Her )\n",
      "5 July 2019 00:50:48 UTC\n",
      "Filters: ('R', 'V', 'B')\n"
     ]
    }
   ],
   "source": [
    "figsize(8,8)\n",
    "for j in complete:\n",
    "    process_job(int(OSO.get_request(int(j['id']))['jid'][1:]))"
   ]
  },
  {
   "cell_type": "code",
   "execution_count": null,
   "metadata": {},
   "outputs": [],
   "source": [
    "1/0"
   ]
  },
  {
   "cell_type": "code",
   "execution_count": null,
   "metadata": {},
   "outputs": [],
   "source": [
    "#local \n",
    "now = datetime.fromtimestamp(time.time())\n",
    "olst = OSO.get_obs_list(t=datetime(now.year, \n",
    "                                   now.month, \n",
    "                                   now.day-1, \n",
    "                                   16, 0).timestamp())\n",
    "print(f'Observations: {len(olst)}')"
   ]
  },
  {
   "cell_type": "code",
   "execution_count": null,
   "metadata": {},
   "outputs": [],
   "source": [
    "olst"
   ]
  },
  {
   "cell_type": "code",
   "execution_count": null,
   "metadata": {},
   "outputs": [],
   "source": []
  },
  {
   "cell_type": "code",
   "execution_count": null,
   "metadata": {},
   "outputs": [],
   "source": [
    "def solve_field_upload(img, crop=((0,-32),(0,-32)), cache='.cache/wcs', \n",
    "                       set_center=True, force_solve=False):\n",
    "    hdu = fits.open(img.name)[0]\n",
    "    if hdu.verify_datasum()!=1:\n",
    "        hdu.add_datasum()\n",
    "    fn = f'{int(hdu.header[\"DATASUM\"]):08X}.wcs'\n",
    "    fp = os.path.join(cache,fn[0],fn[1],fn)\n",
    "    if force_solve or not os.path.isfile(fp) :\n",
    "        print('Solving for ', fp)\n",
    "        try :\n",
    "            settings = {'scale_type': 'ul',\n",
    "                        'scale_units': 'arcsecperpix',\n",
    "                        'scale_lower': 0.5,\n",
    "                        'scale_upper': 2,\n",
    "                       }\n",
    "            if set_center :\n",
    "                settings.update({'center_ra': hdu.header['RA']*15,\n",
    "                                 'center_dec': hdu.header['DEC'],\n",
    "                                 'radius': 1, \n",
    "                                 'parity': 0,\n",
    "                                })\n",
    "\n",
    "            wcs_header = ast.solve_from_image(img.name, force_image_upload=True, solve_timeout=120, **settings)\n",
    "            if wcs_header :\n",
    "                print('Success')\n",
    "                wcs_header['NAXIS'] = 2\n",
    "                wcs_header['NAXIS1'] = wcs_header['IMAGEW']\n",
    "                wcs_header['NAXIS2'] = wcs_header['IMAGEH']\n",
    "                try : \n",
    "                    os.makedirs(os.path.dirname(fp), exist_ok=True)\n",
    "                    with open(fp, 'w') as fh:\n",
    "                        wcs_header.totextfile(fp)\n",
    "                except TypeError:\n",
    "                    pass\n",
    "            else :\n",
    "                print('No solution')\n",
    "        except ASTTimeoutError:\n",
    "            print('Solver timeout')\n",
    "            wcs_header=None\n",
    "    else :\n",
    "        print(f'Getting {fp} from cache')\n",
    "        wcs_header=None\n",
    "        from astropy.io.fits import Header\n",
    "        with open(fp, 'r') as fh:\n",
    "            wcs_header = Header.fromtextfile(fh)\n",
    "    return wcs_header    "
   ]
  },
  {
   "cell_type": "code",
   "execution_count": null,
   "metadata": {},
   "outputs": [],
   "source": [
    "def solve_field_list(hdu, crop=((0,-32),(0,-32)), cache='.cache/wcs', \n",
    "                set_center=True, force_solve=False, force_upload=False,\n",
    "                minsrc=50, maxsrc=500):\n",
    "    if hdu.verify_datasum()!=1:\n",
    "        hdu.add_datasum()\n",
    "    fn = f'{int(hdu.header[\"DATASUM\"]):08X}.wcs'\n",
    "    fp = os.path.join(cache,fn[0],fn[1],fn)\n",
    "    if force_solve or not os.path.isfile(fp) :\n",
    "        print('Solving for ', fp)\n",
    "        data = hdu.data[crop[0][0]:crop[0][1],crop[1][0]:crop[1][1]]\n",
    "        mean, median, std = sigma_clipped_stats(data, sigma=3.0)\n",
    "        sigma = 200\n",
    "        for n in range(20) :\n",
    "            daofind = DAOStarFinder(fwhm=8.0, threshold=sigma*std)\n",
    "            sources = daofind(data - median)\n",
    "            #print(sigma, sources)\n",
    "            if sources is None or len(sources) < minsrc:\n",
    "                sigma /= 2\n",
    "            elif len(sources) > maxsrc:\n",
    "                sigma *= 2\n",
    "            else :\n",
    "                break\n",
    "        else :\n",
    "            print(f'Cannot extract {minsrc} < n < {maxsrc} sources.')\n",
    "            return None\n",
    "\n",
    "\n",
    "        sources.sort('flux')\n",
    "        sources.reverse()\n",
    "\n",
    "\n",
    "        try :\n",
    "            settings = {'scale_type': 'ul',\n",
    "                        'scale_units': 'arcsecperpix',\n",
    "                        'scale_lower': 0.5,\n",
    "                        'scale_upper': 2,\n",
    "                       }\n",
    "            if set_center :\n",
    "                settings.update({'center_ra': hdu.header['RA']*15,\n",
    "                                 'center_dec': hdu.header['DEC'],\n",
    "                                 'radius': 1, \n",
    "                                 'parity': 0,\n",
    "                                })\n",
    "\n",
    "            wcs_header = ast.solve_from_source_list(sources['xcentroid'], sources['ycentroid'], \n",
    "                                                    data.shape[0], data.shape[1],\n",
    "                                                    solve_timeout=120,\n",
    "                                                    **settings)\n",
    "            if wcs_header :\n",
    "                print('Success')\n",
    "                wcs_header['NAXIS'] = 2\n",
    "                wcs_header['NAXIS1'] = wcs_header['IMAGEW']\n",
    "                wcs_header['NAXIS2'] = wcs_header['IMAGEH']\n",
    "                try : \n",
    "                    os.makedirs(os.path.dirname(fp), exist_ok=True)\n",
    "                    with open(fp, 'w') as fh:\n",
    "                        wcs_header.totextfile(fp)\n",
    "                except TypeError:\n",
    "                    pass\n",
    "            else :\n",
    "                print('\\nNo solution')\n",
    "        except ASTTimeoutError:\n",
    "            print('\\nSolver timeout')\n",
    "            wcs_header=None\n",
    "    else :\n",
    "        print(f'Getting {fp} from cache')\n",
    "        wcs_header=None\n",
    "        from astropy.io.fits import Header\n",
    "        with open(fp, 'r') as fh:\n",
    "            wcs_header = Header.fromtextfile(fh)\n",
    "    return wcs_header"
   ]
  },
  {
   "cell_type": "code",
   "execution_count": null,
   "metadata": {},
   "outputs": [],
   "source": [
    "OSO.get_job(olst[0])"
   ]
  },
  {
   "cell_type": "code",
   "execution_count": null,
   "metadata": {},
   "outputs": [],
   "source": [
    "\n",
    "figsize(8, 8)\n",
    "for nj, jid in enumerate(olst):\n",
    "    #jid = int(OSO.get_request(int(rq['id']))['jid'][1:])\n",
    "    job = OSO.get_job(jid)\n",
    "    ctime = job['completion']\n",
    "    print(f'{nj}:jid {jid} (', OSO.get_request(int(job['rid'].split()[0][1:]))['name'], f'):  {\" \".join(ctime)}')\n",
    "    z = OSO.get_obs(job, cube=False, verbose=False)    \n",
    "    hdul=[fits.open(BytesIO(z.read(name)))[0] for name in z.namelist()]\n",
    "    print(f'Filters: {tuple(hdu.header[\"FILTER\"] for hdu in hdul)}')\n",
    "    if jid in DB :\n",
    "        print('Done')\n",
    "        display.clear_output(wait=True);\n",
    "        continue\n",
    "    hi = min(1, len(hdul)-1)\n",
    "    try :\n",
    "        wcs_head = solve_field_list(hdul[hi])\n",
    "    except ASTTimeoutError:\n",
    "        wcs_head = None\n",
    "#    wcs_head = None\n",
    "    if not wcs_head:\n",
    "        try:\n",
    "            img = OSO.get_obs(job, cube=True, verbose=False)\n",
    "            wcs_head = solve_field_upload(img)\n",
    "        except ASTTimeoutError:\n",
    "            wcs_head = None\n",
    "    if not wcs_head:\n",
    "        try :\n",
    "            wcs_head = solve_field_list(hdul[hi], set_center=False)\n",
    "        except ASTTimeoutError:\n",
    "            wcs_head = None\n",
    "    if not wcs_head:\n",
    "        try:\n",
    "            img = OSO.get_obs(job, cube=True, verbose=False)\n",
    "            wcs_head = solve_field_upload(img, set_center=False)\n",
    "        except ASTTimeoutError:\n",
    "            wcs_head = None\n",
    "    if wcs_head :\n",
    "        hdul[hi].add_datasum()\n",
    "        fn = f'{int(hdul[hi].header[\"DATASUM\"]):08X}.wcs'\n",
    "        fp = os.path.join('.cache/wcs',fn[0],fn[1],fn)\n",
    "        try : \n",
    "            os.makedirs(os.path.dirname(fp), exist_ok=True)\n",
    "            with open(fp, 'w') as fh:\n",
    "                wcs_head.totextfile(fp)\n",
    "        except TypeError:\n",
    "            pass\n",
    "    if not wcs_head:\n",
    "        print('Cannot solve image')\n",
    "        data = hdul[hi].data[:-32,:-32]\n",
    "        imshow(data, norm=simple_norm(data, 'asinh', asinh_a=0.01))\n",
    "        show();\n",
    "        continue\n",
    "    w = WCS(wcs_head)\n",
    "    box = w.calc_footprint()\n",
    "    c = box.mean(axis=0)\n",
    "    s = box.max(axis=0) - box.min(axis=0)\n",
    "    result = Vizier.query_region(catalog='B/gcvs', \n",
    "                                 coordinates=SkyCoord(*c, unit='deg', frame='fk5'), \n",
    "                                 width=f'{s[0]}deg', height=f'{s[1]}deg')\n",
    "    for g in result:\n",
    "        for n, o in enumerate(g):\n",
    "            if 'Name' in o.keys():\n",
    "                name = o['Name']\n",
    "            elif 'GCVS' in o.keys():\n",
    "                name = ' '.join(o['GCVS'].split())\n",
    "            elif 'NSV' in o.keys():\n",
    "                name = f'NSV_{o[\"NSV\"]}'\n",
    "\n",
    "            #print(f'{name:12} {o[\"magMax\"]:6.2f} {o.keys()}')\n",
    "#             print(f'{name:12} {o[\"magMax\"]:6.2f}')\n",
    "    subplot(projection=w)\n",
    "    grid(color='white', ls='solid')\n",
    "    ax = gca()\n",
    "    for g in result:\n",
    "        #print(g)\n",
    "        for n, o in enumerate(g):\n",
    "            if 'Name' in o.keys():\n",
    "                name = o['Name']\n",
    "            elif 'GCVS' in o.keys():\n",
    "                name = ' '.join(o['GCVS'].split())\n",
    "            elif 'NSV' in o.keys():\n",
    "                name = f'NSV_{o[\"NSV\"]}'\n",
    "            else :\n",
    "                name = f'VS_{n}'\n",
    "            try : \n",
    "                try :\n",
    "                    radec = SkyCoord(o['RAJ2000'] + o['DEJ2000'], \n",
    "                                     frame='fk5', unit=(u.hourangle, u.deg))\n",
    "                except ValueError:\n",
    "                    radec = SkyCoord(o['RAJ2000'], o['DEJ2000'], \n",
    "                                     frame='fk5', unit=(u.deg, u.deg))\n",
    "            except KeyError:\n",
    "                    radec =  SkyCoord(o['_RA.icrs'] + o['_DE.icrs'], \n",
    "                                     frame='icrs', unit=(u.hourangle, u.deg))\n",
    "#                     radec =  SkyCoord(o['RAB1950'] + o['DEB1950'], \n",
    "#                                      frame='fk4', unit=(u.hourangle, u.deg))\n",
    "            ax.scatter(radec.ra.deg, radec.dec.deg, transform=ax.get_transform('icrs'), s=20, edgecolor='red', facecolor='none')\n",
    "#             ax.text(radec.ra.deg, radec.dec.deg, f'  {name} ({o[\"magMax\"]})', \n",
    "#                     transform=ax.get_transform('fk5'), color='red')\n",
    "    display.clear_output(wait=True)\n",
    "    print(f'{nj}:jid {jid} (', OSO.get_request(int(job['rid'].split()[0][1:]))['name'], f'):  {\" \".join(ctime)}')\n",
    "    print(f'Filters: {tuple(hdu.header[\"FILTER\"] for hdu in hdul)}')\n",
    "\n",
    "    try :\n",
    "        if len(hdul)==3:\n",
    "            imshow(make_color_image([hdu.data[:-32,:-32] for hdu in hdul]))\n",
    "        else :\n",
    "            data = hdul[hi].data[:-32,:-32]\n",
    "            imshow(data, norm=simple_norm(data, 'asinh', asinh_a=0.01))\n",
    "    except aa.MaxIterError:\n",
    "        data = hdul[hi].data[:-32,:-32]\n",
    "        imshow(data, norm=simple_norm(data, 'asinh', asinh_a=0.01))\n",
    "    DB[jid]=Job(jid, [int(rid[1:]) for rid in job['rid'].split()], True)\n",
    "    show()\n",
    "    display.display(gcf());"
   ]
  },
  {
   "cell_type": "code",
   "execution_count": null,
   "metadata": {},
   "outputs": [],
   "source": [
    "jid = 383576\n",
    "img = OSO.get_obs(OSO.get_job(jid), cube=True, verbose=True)\n",
    "solve_field_upload(img);"
   ]
  },
  {
   "cell_type": "code",
   "execution_count": null,
   "metadata": {},
   "outputs": [],
   "source": [
    "rq = complete[0]\n",
    "jid = int(OSO.get_request(int(rq['id']))['jid'][1:])"
   ]
  },
  {
   "cell_type": "code",
   "execution_count": null,
   "metadata": {},
   "outputs": [],
   "source": [
    "jid = 383310\n",
    "img = OSO.get_obs(OSO.get_job(jid), cube=True, verbose=True)\n",
    "z = OSO.get_obs(OSO.get_job(jid), cube=False, verbose=True)"
   ]
  },
  {
   "cell_type": "code",
   "execution_count": null,
   "metadata": {},
   "outputs": [],
   "source": [
    "solve_field_upload(img)"
   ]
  },
  {
   "cell_type": "code",
   "execution_count": null,
   "metadata": {},
   "outputs": [],
   "source": [
    "hdul = fits.open(img.name)[0]"
   ]
  },
  {
   "cell_type": "code",
   "execution_count": null,
   "metadata": {},
   "outputs": [],
   "source": [
    "hdul.fileinfo()"
   ]
  },
  {
   "cell_type": "code",
   "execution_count": null,
   "metadata": {},
   "outputs": [],
   "source": [
    "hdul=[fits.open(BytesIO(z.read(name)))[0] for name in z.namelist()]"
   ]
  },
  {
   "cell_type": "code",
   "execution_count": null,
   "metadata": {},
   "outputs": [],
   "source": [
    "hdu = hdul[1]\n",
    "for n, hdu in enumerate(hdul):\n",
    "    print(n, hdu.header['FILTER'])"
   ]
  },
  {
   "cell_type": "code",
   "execution_count": null,
   "metadata": {},
   "outputs": [],
   "source": [
    "w = solve_field(hdu)"
   ]
  },
  {
   "cell_type": "code",
   "execution_count": null,
   "metadata": {},
   "outputs": [],
   "source": [
    "r, g, b = (hdu.data[:-32,:-32] for hdu in hdul)"
   ]
  },
  {
   "cell_type": "code",
   "execution_count": null,
   "metadata": {},
   "outputs": [],
   "source": [
    "subplot(projection=WCS(w))\n",
    "imshow(make_color_image([hdu.data[:-32,:-32] for hdu in hdul],\n",
    "                        black=1.15,\n",
    "                        stretch=100,\n",
    "                        Q=5\n",
    "                       ))\n",
    "grid(color='white', ls='solid')"
   ]
  },
  {
   "cell_type": "code",
   "execution_count": null,
   "metadata": {},
   "outputs": [],
   "source": [
    "imshow(g, norm=simple_norm(g, 'asinh', asinh_a=0.1))"
   ]
  },
  {
   "cell_type": "code",
   "execution_count": null,
   "metadata": {},
   "outputs": [],
   "source": [
    "f'{int(hdu.header[\"DATASUM\"]):08X}'"
   ]
  },
  {
   "cell_type": "code",
   "execution_count": null,
   "metadata": {},
   "outputs": [],
   "source": [
    "aa.register(b, g, detection_sigma=10)"
   ]
  },
  {
   "cell_type": "code",
   "execution_count": null,
   "metadata": {},
   "outputs": [],
   "source": []
  },
  {
   "cell_type": "code",
   "execution_count": null,
   "metadata": {},
   "outputs": [],
   "source": [
    "data = hdu.data[:-32,:-32]\n",
    "mean, median, std = sigma_clipped_stats(data, sigma=3.0)\n",
    "norm=simple_norm(data, 'asinh', asinh_a=0.001)\n",
    "daofind = DAOStarFinder(fwhm=4.0, threshold=200.*std)\n",
    "sources = daofind(data - median)\n",
    "sources.sort('flux')\n",
    "sources.reverse()\n",
    "len(sources)"
   ]
  },
  {
   "cell_type": "code",
   "execution_count": null,
   "metadata": {},
   "outputs": [],
   "source": [
    "figsize(10,10)\n",
    "from photutils.aperture import CircularAperture\n",
    "positions = np.transpose((sources['xcentroid'], sources['ycentroid']))\n",
    "apertures = CircularAperture(positions, r=5.)\n",
    "imshow(data, cmap='gray', norm=norm, interpolation='nearest')\n",
    "apertures.plot(color='yellow', lw=1.5, alpha=0.5);"
   ]
  },
  {
   "cell_type": "code",
   "execution_count": null,
   "metadata": {},
   "outputs": [],
   "source": [
    "wcs_header['NAXIS']=2\n",
    "wcs = WCS(wcs_header)\n",
    "box = wcs.calc_footprint(wcs_header, axes=data.shape)\n",
    "c = box.mean(axis=0)\n",
    "s = box.max(axis=0) - box.min(axis=0)"
   ]
  },
  {
   "cell_type": "code",
   "execution_count": null,
   "metadata": {},
   "outputs": [],
   "source": [
    "#cats = list(Vizier.find_catalogs('gcvs')) + list(Vizier.find_catalogs('vsx'))\n",
    "cats = ['B/gcvs', 'B/vsx']\n",
    "cats = 'B/gcvs'"
   ]
  },
  {
   "cell_type": "code",
   "execution_count": null,
   "metadata": {},
   "outputs": [],
   "source": [
    "result = Vizier.query_region(catalog=cats, coordinates=SkyCoord(*c, unit='deg', frame='fk5'), width=f'{s[0]}deg', height=f'{s[1]}deg')\n",
    "for g in result:\n",
    "    for n, o in enumerate(g):\n",
    "        if 'Name' in o.keys():\n",
    "            name = o['Name']\n",
    "        elif 'GCVS' in o.keys():\n",
    "            name = ' '.join(o['GCVS'].split())\n",
    "        elif 'NSV' in o.keys():\n",
    "            name = f'NSV_{o[\"NSV\"]}'\n",
    "\n",
    "        print(f'{name:12} {o[\"magMax\"]:6.2f}')"
   ]
  },
  {
   "cell_type": "code",
   "execution_count": null,
   "metadata": {},
   "outputs": [],
   "source": [
    "figsize(14,14)\n",
    "subplot(projection=wcs)\n",
    "imshow(data, norm=norm)\n",
    "grid(color='white', ls='solid')\n",
    "ax = gca()\n",
    "for g in result:\n",
    "    for n, o in enumerate(g):\n",
    "        if 'Name' in o.keys():\n",
    "            name = o['Name']\n",
    "        elif 'GCVS' in o.keys():\n",
    "            name = ' '.join(o['GCVS'].split())\n",
    "        elif 'NSV' in o.keys():\n",
    "            name = f'NSV_{o[\"NSV\"]}'\n",
    "        else :\n",
    "            name = f'VS_{n}'\n",
    "        try :\n",
    "            radec = SkyCoord(o['RAJ2000'] + o['DEJ2000'], frame='fk5', unit=(u.hourangle, u.deg))\n",
    "        except ValueError:\n",
    "            radec = SkyCoord(o['RAJ2000'], o['DEJ2000'], frame='fk5', unit=(u.deg, u.deg))\n",
    "        ax.scatter(radec.ra.deg, radec.dec.deg, transform=ax.get_transform('icrs'), s=20, edgecolor='red', facecolor='none')\n",
    "        ax.text(radec.ra.deg, radec.dec.deg, f'  {name} ({o[\"magMax\"]:.1f})', \n",
    "                transform=ax.get_transform('fk5'), color='red')\n",
    "    "
   ]
  },
  {
   "cell_type": "code",
   "execution_count": null,
   "metadata": {},
   "outputs": [],
   "source": [
    "figsize(10,10)\n",
    "imshow((data),aspect='equal', norm=simple_norm(data, 'asinh', asinh_a=0.0005))"
   ]
  },
  {
   "cell_type": "code",
   "execution_count": null,
   "metadata": {},
   "outputs": [],
   "source": [
    "#subplot(projection=wcs)\n",
    "imshow(make_color_image([hdu.data[:-100,:-100] for hdu in hdul]))\n",
    "#grid(color='white', ls='solid')"
   ]
  },
  {
   "cell_type": "code",
   "execution_count": null,
   "metadata": {},
   "outputs": [],
   "source": [
    "def searchVS(h, cat='GCVS', caturl=None, maxSearchRadius=5):\n",
    "    '''\n",
    "    Search the area of the image in h (hdu, fits) for variable stars\n",
    "    using the given catalogue. The cat imput parameter denotes the \n",
    "    catalogue:\n",
    "    \n",
    "    'GCVS' - use the General Catalogue of Variable Stars\n",
    "    'VSX'  - use the AAVSO Variable Star Index\n",
    "    'USER' - use the custom url passed in caturl parameter\n",
    "    \n",
    "    The maximum search radius is specified by maxSearchRadius (deg).\n",
    "    \n",
    "    Returns a list of VS in the circle with the frame inscribed in it.\n",
    "    '''\n",
    "    from pyvo import conesearch\n",
    "    \n",
    "    if cat=='GCVS' :\n",
    "        caturl='http://vizier.u-strasbg.fr/viz-bin/votable/-A?-source=B/vsx&amp;'\n",
    "    elif cat=='VSX' :\n",
    "        caturl='http://heasarc.gsfc.nasa.gov/cgi-bin/vo/cone/coneGet.pl?table=aavsovsx&amp;'\n",
    "    else :\n",
    "        caturl=caturl\n",
    "    \n",
    "    w=WCS(h)\n",
    "    cen=w.all_pix2world(array([[h['NAXIS1'], h['NAXIS2']]])/2,0)[0]\n",
    "    # Half of the hypotenuse of the frame = radius of the search\n",
    "    rad=sqrt(sum((real(eigvals(w.wcs.cd))*array([h['NAXIS1'], h['NAXIS2']]))**2))/2\n",
    "    # Clamp to reasonable size\n",
    "    rad=min(rad, maxSearchRadius)\n",
    "    r=conesearch(caturl,pos=list(cen),radius=rad)\n",
    "    return r"
   ]
  },
  {
   "cell_type": "code",
   "execution_count": null,
   "metadata": {},
   "outputs": [],
   "source": [
    "searchVS(wcs_header)"
   ]
  },
  {
   "cell_type": "code",
   "execution_count": null,
   "metadata": {},
   "outputs": [],
   "source": [
    "wcs_header['NAXIS1']=wcs_header['IMAGEW']\n",
    "wcs_header['NAXIS2']=wcs_header['IMAGEH']"
   ]
  },
  {
   "cell_type": "code",
   "execution_count": null,
   "metadata": {},
   "outputs": [],
   "source": [
    "def analyseJob(scope, jid, cat='GCVS'):\n",
    "    obs=scope.get_job(jid)\n",
    "    if obs['type']!='SSBODY' :\n",
    "        print jid, obs['filter'], obs['exp'], obs['type'], obs['oid']\n",
    "        \n",
    "        z=scope.get_obs(obs,cube=False)\n",
    "        \n",
    "        hdul=[fits.open(BytesIO(z.read(name))) for name in z.namelist()]\n",
    "\n",
    "        for h,f in zip(hdul,obs['filter']):\n",
    "            h[0].header['FILTER']=f\n",
    "\n",
    "        shdul=[scope.solveField(h[0],name=str(jid)) for h in hdul]\n",
    "        for n,h in enumerate(shdul):\n",
    "            print 'Filter: ',hdul[n][0].header['FILTER'],\n",
    "            if h is None :\n",
    "                print 'Unable to solve the field!'\n",
    "                imshow(sqrt(hdul[n][0].data),aspect='equal')\n",
    "                continue\n",
    "            w=wcs.WCS(h[0].header)\n",
    "            imshow(sqrt(h[0].data),aspect='equal')\n",
    "            plot(h[0].header['NAXIS1']/2,h[0].header['NAXIS2']/2,'r+',ms=30)\n",
    "            if obs['type']=='RADEC':\n",
    "                obj=SkyCoord(obs['oid'], unit=(u.hourangle, u.deg))\n",
    "            else :\n",
    "                obj=SkyCoord.from_name(obs['type']+obs['oid'])\n",
    "            pix=w.all_world2pix(array([[obj.ra.deg,obj.dec.deg]]),0)[0]\n",
    "            plot(pix[0],pix[1],'r+',ms=20)\n",
    "            plot(pix[0],pix[1],'ro',fillstyle='none', ms=12)\n",
    "            r=searchVS(h)\n",
    "            print \"Number of VS:\", len(r)\n",
    "            for s in r:\n",
    "                vsname='%(Name)-25s' % s\n",
    "                # filter out NSV and VSX hits (leave just GCVS marked stars)\n",
    "                if vsname.find('NSV')<0 and vsname.find('VSX')<0 :\n",
    "                    pix=w.all_world2pix(array([[s.ra,s.dec]]),0)[0]\n",
    "                    # reject out of frame stars\n",
    "                    if 0 < pix[0] < h[0].header['NAXIS1'] and 0 < pix[1] < h[0].header['NAXIS2'] :\n",
    "                        plot(pix[0],pix[1],'ro',fillstyle='none')\n",
    "                        annotate(vsname, pix, xytext=(5,-7), textcoords='offset points', color='y')\n",
    "                        print '%(Name)25s %(Period)12.6f %(min)6.2f - %(max)6.2f ' % s\n",
    "            xlim(0,h[0].header['NAXIS1'])\n",
    "            ylim(0,h[0].header['NAXIS2'])\n",
    "            show()\n",
    "        print\n",
    "    "
   ]
  },
  {
   "cell_type": "code",
   "execution_count": null,
   "metadata": {},
   "outputs": [],
   "source": []
  },
  {
   "cell_type": "code",
   "execution_count": null,
   "metadata": {},
   "outputs": [],
   "source": []
  }
 ],
 "metadata": {
  "kernelspec": {
   "display_name": "Python 3 (ipykernel)",
   "language": "python",
   "name": "python3"
  }
 },
 "nbformat": 4,
 "nbformat_minor": 4
}
