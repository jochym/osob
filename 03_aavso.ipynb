{
 "cells": [
  {
   "cell_type": "code",
   "execution_count": 1,
   "id": "3d9faf71-b0d4-44e2-904a-f47d57277e05",
   "metadata": {},
   "outputs": [],
   "source": [
    "#| default_exp aavso"
   ]
  },
  {
   "cell_type": "code",
   "execution_count": 2,
   "id": "f9a519c9-c4f8-4cf1-9e99-0fb3f95083d7",
   "metadata": {},
   "outputs": [],
   "source": [
    "#| hide\n",
    "from nbdev.showdoc import *\n",
    "from nbdev import *"
   ]
  },
  {
   "cell_type": "code",
   "execution_count": 3,
   "id": "98da1d34-7231-4663-bc05-bb58afe3e551",
   "metadata": {},
   "outputs": [],
   "source": [
    "#| export\n",
    "import sys\n",
    "import mechanicalsoup\n",
    "from lxml import etree\n",
    "from math import sqrt\n",
    "mech = mechanicalsoup.StatefulBrowser(soup_config={'features': 'lxml'})"
   ]
  },
  {
   "cell_type": "code",
   "execution_count": 4,
   "id": "1fc1b91f-074f-44b3-aff7-918084d2cac7",
   "metadata": {},
   "outputs": [],
   "source": [
    "#| export\n",
    "def prtMag(m):\n",
    "    m=m.split()\n",
    "    if m[0]=='-' :\n",
    "        return None\n",
    "    v=float(m[0])\n",
    "    try :\n",
    "        e=float(m[1][1:-1])\n",
    "    except ValueError:\n",
    "        e=0.0\n",
    "    return '%f/%f' % (v,e)\n",
    "\n",
    "dsgn=['u', 'b', 'v', 'rc', 'ic']"
   ]
  },
  {
   "cell_type": "code",
   "execution_count": 5,
   "id": "dbecbe89-c289-4a38-a52a-066ae5a81b71",
   "metadata": {},
   "outputs": [],
   "source": [
    "#| export\n",
    "def get_VS_sequence(vs, fov=60, maglimit=17, DEBUG = False):\n",
    "    #fov*=sqrt(2)\n",
    "    url=\"http://www.aavso.org/cgi-bin/vsp.pl?name=%s&ccdtable=on&fov=%d\" % (\"%20\".join(vs.split()),fov)\n",
    "    url=\"https://www.aavso.org/apps/vsp/photometry/?fov=%.1f&star=%s&Rc=on&B=on&maglimit=%.1f\" % ( fov,\n",
    "            '+'.join(vs.split()), maglimit)\n",
    "    page = mech.open(url)\n",
    "    html = ''.join([str(ln) for ln in page.soup])\n",
    "    page.close()\n",
    "    parser=etree.HTMLParser()\n",
    "    #tree=etree.parse(open('rcp/sekw.html'),parser)\n",
    "    tree=etree.fromstring(html,parser)\n",
    "\n",
    "    try :\n",
    "        var=' '.join(tree.xpath('//p//strong//text()')[0].split()[1:])\n",
    "        ra=tree.xpath('//p//strong//text()')[1].split()[0]\n",
    "        dec=tree.xpath('//p//strong//text()')[2].split()[0]\n",
    "        seq=tree.xpath('//p//strong//text()')[3]\n",
    "    except IndexError :\n",
    "        #print('Cannot get AAVSO sequence for', vs)\n",
    "        return None, None\n",
    "\n",
    "    stars=[]\n",
    "\n",
    "    if DEBUG :\n",
    "        print('\\nSequence %s for: %s ( ra: %s  dec: %s )' % (seq, var, ra, dec), file=sys.stderr)\n",
    "\n",
    "    for tab in tree.xpath('//table//tbody')[0:1]:\n",
    "        #print >> sys.stderr, 'Sequence:', seq\n",
    "        for row in tab.xpath('./tr')[1:-2]:\n",
    "            c=row.xpath('./td/text()')\n",
    "            auid=c[0]\n",
    "            lbl=row.xpath('./td/strong/text()')[0]\n",
    "            ra=c[1].split()[0]\n",
    "            ra_flt=float(c[1].split()[1][1:-2])\n",
    "            dec=c[2].split()[0]\n",
    "            dec_flt=float(c[2].split()[1][1:-2])\n",
    "            #print(c, file=sys.stderr)\n",
    "            #print(auid, lbl, ra, ra_flt, dec, dec_flt, file=sys.stderr)\n",
    "    #        for d,m in zip(dsgn, (c[4], c[5], c[6], c[8], c[9])):\n",
    "    #            s=prtMag(m)\n",
    "    #            if s :\n",
    "    #                print '%s=%s' % (d,s),\n",
    "            #print c[-1]\n",
    "            stars.append([auid, lbl, ra, ra_flt, dec, dec_flt] +\n",
    "                        [v  for v in c[3:7]])\n",
    "            #print c\n",
    "            #print lbl, \"ID:%s U:%s B:%s V:%s Rc:%s Ic:%s Cmnt:%s\" %(c[0], c[4], c[5], c[6], c[8], c[9],c[-1])\n",
    "\n",
    "    #print(' ', seq, fov, file=sys.stderr)\n",
    "    return seq, stars"
   ]
  },
  {
   "cell_type": "code",
   "execution_count": 6,
   "id": "68460896-1806-49d8-8df8-0a27abe07725",
   "metadata": {
    "tags": []
   },
   "outputs": [
    {
     "data": {
      "text/plain": [
       "2"
      ]
     },
     "execution_count": 6,
     "metadata": {},
     "output_type": "execute_result"
    }
   ],
   "source": [
    "len(get_VS_sequence('SS Cyg', 30, 16.5))"
   ]
  },
  {
   "cell_type": "code",
   "execution_count": 7,
   "id": "0873eb15-7733-409b-97df-e93d5293534d",
   "metadata": {},
   "outputs": [
    {
     "name": "stdout",
     "output_type": "stream",
     "text": [
      "Converted 00_core.ipynb.\n",
      "Converted 01_solver.ipynb.\n",
      "Converted 02_process.ipynb.\n",
      "Converted 03_aavso.ipynb.\n",
      "Converted index.ipynb.\n"
     ]
    }
   ],
   "source": [
    "from nbdev import nbdev_export; nbdev_export()"
   ]
  },
  {
   "cell_type": "code",
   "execution_count": null,
   "id": "e19503a3-a3ef-4c17-b022-54ff4f738594",
   "metadata": {},
   "outputs": [],
   "source": []
  }
 ],
 "metadata": {
  "kernelspec": {
   "display_name": "Python 3 (ipykernel)",
   "language": "python",
   "name": "python3"
  },
  "language_info": {
   "codemirror_mode": {
    "name": "ipython",
    "version": 3
   },
   "file_extension": ".py",
   "mimetype": "text/x-python",
   "name": "python",
   "nbconvert_exporter": "python",
   "pygments_lexer": "ipython3",
   "version": "3.9.7"
  }
 },
 "nbformat": 4,
 "nbformat_minor": 5
}
