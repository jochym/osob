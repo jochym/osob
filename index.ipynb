{
 "cells": [
  {
   "cell_type": "code",
   "execution_count": null,
   "metadata": {},
   "outputs": [],
   "source": [
    "#hide\n",
    "from osob.core import *\n",
    "import configparser\n",
    "from os.path import expanduser"
   ]
  },
  {
   "cell_type": "markdown",
   "metadata": {},
   "source": [
    "# OSOb\n",
    "\n",
    "> OpenScience Observatories interface library"
   ]
  },
  {
   "cell_type": "markdown",
   "metadata": {},
   "source": [
    "The OSOb library provides wrapper for the telescope.org site functionality."
   ]
  },
  {
   "cell_type": "markdown",
   "metadata": {},
   "source": [
    "## Install"
   ]
  },
  {
   "cell_type": "markdown",
   "metadata": {},
   "source": [
    "`pip install osob`"
   ]
  },
  {
   "cell_type": "markdown",
   "metadata": {},
   "source": [
    "## How to use"
   ]
  },
  {
   "cell_type": "markdown",
   "metadata": {},
   "source": [
    "The library may be used as standard python module and through several command line utilities: `submit_batch`, `pipeline` etc. Typical use in your own scripts "
   ]
  },
  {
   "cell_type": "code",
   "execution_count": null,
   "metadata": {},
   "outputs": [
    {
     "name": "stdout",
     "output_type": "stream",
     "text": [
      "Number of users requests: 1162\n",
      "User folders:\n",
      "       Inbox (  1): 1162 items\n",
      "  Favourites (  2):    0 items\n",
      "     Archive (  3):  447 items\n",
      "       Trash (  4):   52 items\n",
      "    Complete (461):   13 items\n"
     ]
    }
   ],
   "source": [
    "#local\n",
    "config = configparser.ConfigParser()\n",
    "config.read(expanduser('~/.config/telescope.ini'))\n",
    "\n",
    "OSO=Telescope(config['telescope.org']['user'], \n",
    "              config['telescope.org']['password'])\n",
    "\n",
    "reqlst=OSO.get_user_requests(sort='completion')\n",
    "print(f'Number of users requests: {len(reqlst)}')\n",
    "\n",
    "print(\"User folders:\")\n",
    "for f in OSO.get_user_folders():\n",
    "    cnt = f[\"count\"] \n",
    "    if cnt is None:\n",
    "        cnt = 0\n",
    "    print(f'{f[\"name\"]:>12} ({f[\"id\"]:>3}): {cnt:>4} items')\n",
    "\n",
    "OSO.logout()"
   ]
  },
  {
   "cell_type": "code",
   "execution_count": null,
   "metadata": {},
   "outputs": [],
   "source": []
  },
  {
   "cell_type": "code",
   "execution_count": null,
   "metadata": {},
   "outputs": [],
   "source": []
  }
 ],
 "metadata": {
  "kernelspec": {
   "display_name": "Python 3",
   "language": "python",
   "name": "python3"
  }
 },
 "nbformat": 4,
 "nbformat_minor": 4
}
