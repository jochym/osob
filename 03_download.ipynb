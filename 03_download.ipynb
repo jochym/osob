{
 "cells": [
  {
   "cell_type": "code",
   "execution_count": null,
   "id": "01ea7b12-9e97-4493-9c40-f30178c954d1",
   "metadata": {},
   "outputs": [],
   "source": [
    "#| default_exp process"
   ]
  },
  {
   "cell_type": "code",
   "execution_count": null,
   "id": "1a659e70-489f-4262-8201-a9255e86f70b",
   "metadata": {},
   "outputs": [],
   "source": [
    "#| hide\n",
    "from nbdev.showdoc import *\n",
    "from nbdev import *"
   ]
  },
  {
   "cell_type": "code",
   "execution_count": null,
   "id": "fb286495-604d-467b-a236-71f909ec9881",
   "metadata": {},
   "outputs": [],
   "source": [
    "#| export\n",
    "import configparser\n",
    "import os\n",
    "from fastcore.basics import patch\n",
    "from os.path import expanduser\n",
    "from astroquery.astrometry_net import AstrometryNet\n",
    "from astroquery.exceptions import TimeoutError as ASTTimeoutError\n",
    "from osob.core import Telescope\n",
    "from osob.solver import Solver\n",
    "from tqdm.auto import tqdm"
   ]
  },
  {
   "cell_type": "code",
   "execution_count": null,
   "id": "92f0a01f-9955-45e4-b64a-1a24f72e4216",
   "metadata": {},
   "outputs": [
    {
     "data": {
      "text/plain": [
       "['/home/jochym/.config/telescope.ini']"
      ]
     },
     "execution_count": null,
     "metadata": {},
     "output_type": "execute_result"
    }
   ],
   "source": [
    "#| local\n",
    "config = configparser.ConfigParser()\n",
    "config.read(expanduser('~/.config/telescope.ini'))"
   ]
  },
  {
   "cell_type": "code",
   "execution_count": null,
   "id": "e59387c8-5941-46b8-9c84-4ffd26defb4a",
   "metadata": {},
   "outputs": [],
   "source": [
    "#| local\n",
    "OSO=Telescope(config['telescope.org']['user'], \n",
    "              config['telescope.org']['password'])"
   ]
  },
  {
   "cell_type": "code",
   "execution_count": null,
   "id": "bb00f657-cb9e-4666-8d47-5d6b0fb7f4b6",
   "metadata": {},
   "outputs": [],
   "source": [
    "#| local\n",
    "def get_object_obs(obj):\n",
    "    reqlst=OSO.get_user_requests(sort='completion')\n",
    "    print(f'Number of users requests: {len(reqlst)}')\n",
    "\n",
    "    complete = [rq for rq in sorted(reqlst, key=lambda r: int(r['requesttime']), reverse=True) \n",
    "                        if Telescope.REQUESTSTATUS_TEXTS[int(rq['status'])]=='Complete']\n",
    "    print('Completed:', len(complete))\n",
    "    objjobs = ((int(OSO.get_request(int(j['id']))['jid'][1:]), int(j['id'])) \n",
    "               for j in complete if j['objectname']==obj)\n",
    "    return objjobs"
   ]
  },
  {
   "cell_type": "code",
   "execution_count": null,
   "id": "404dea4f-44b9-4867-bbca-10fe6078a205",
   "metadata": {},
   "outputs": [],
   "source": [
    "#| local\n",
    "reqlst=OSO.get_user_requests(sort='completion')\n",
    "complete = [rq for rq in sorted(reqlst, key=lambda r: int(r['requesttime']), reverse=True) \n",
    "                        if Telescope.REQUESTSTATUS_TEXTS[int(rq['status'])]=='Complete']"
   ]
  },
  {
   "cell_type": "code",
   "execution_count": null,
   "id": "803ec1a5-2286-40c4-8097-126aee3de3f8",
   "metadata": {},
   "outputs": [
    {
     "name": "stdout",
     "output_type": "stream",
     "text": [
      "Number of users requests: 1439\n",
      "Completed: 1414\n",
      "Completed observations of BI Her: 143\n"
     ]
    },
    {
     "data": {
      "application/vnd.jupyter.widget-view+json": {
       "model_id": "7f34c9c4493f476686d803c72b0aacda",
       "version_major": 2,
       "version_minor": 0
      },
      "text/plain": [
       "  0%|          | 0/143 [00:00<?, ?it/s]"
      ]
     },
     "metadata": {},
     "output_type": "display_data"
    }
   ],
   "source": [
    "#| local\n",
    "\n",
    "# Get all observations of VS\n",
    "VS = 'BI Her'\n",
    "jlist = list(get_object_obs(VS))\n",
    "print(f'Completed observations of {VS}: {len(jlist)}')\n",
    "\n",
    "for jid, rid in tqdm(jlist):\n",
    "    # print(f\"R{rid}:J{jid}\")\n",
    "    try :\n",
    "        data = OSO.get_obs(OSO.get_job(jid), cube=True, verbose=False)\n",
    "        if data :\n",
    "            fp = f'VS/{\"_\".join(VS.split())}'\n",
    "            os.makedirs(fp, exist_ok=True)\n",
    "            fn = f'{jid}'\n",
    "            try :\n",
    "                # print(os.path.abspath(data.name), f'{fp}/{fn}.fits')\n",
    "                os.symlink(os.path.abspath(data.name), f'{fp}/{fn}.fits')\n",
    "            except FileExistsError:\n",
    "                pass\n",
    "            # with open(f'/home/jochym/Astro/VS/{\"_\".join(VS.split())}/{jid}.fits', 'wb') as ff:\n",
    "            #     ff.write(data.read())\n",
    "        else :\n",
    "            print(f'Download of J{jid} failed')\n",
    "    except TimeoutError:\n",
    "        print(f'Download of J{jid} failed')\n",
    "        continue"
   ]
  },
  {
   "cell_type": "code",
   "execution_count": null,
   "id": "fdc5dd0e-7fc8-49b9-b224-535107acfbd3",
   "metadata": {},
   "outputs": [
    {
     "data": {
      "application/vnd.jupyter.widget-view+json": {
       "model_id": "4eae2a645af444a3a3a593091e0f57b2",
       "version_major": 2,
       "version_minor": 0
      },
      "text/plain": [
       "  0%|          | 0/1414 [00:00<?, ?it/s]"
      ]
     },
     "metadata": {},
     "output_type": "display_data"
    },
    {
     "name": "stdout",
     "output_type": "stream",
     "text": [
      "Download of J321992 failed, timeout\n",
      "Download of J321989 failed, timeout\n",
      "Download of J294696 failed, timeout\n",
      "Download of J293658 failed, timeout\n",
      "Download of J293657 failed, timeout\n",
      "Download of J293656 failed, timeout\n",
      "Download of J293655 failed, timeout\n",
      "Download of J293654 failed, timeout\n",
      "Download of J293653 failed, timeout\n",
      "Download of J293652 failed, timeout\n",
      "Download of J293651 failed, timeout\n"
     ]
    }
   ],
   "source": [
    "#| local\n",
    "\n",
    "# get all completed jobs\n",
    "for rq in (pbar := tqdm(complete)):\n",
    "    name = rq['objectname']\n",
    "    rid = int(rq['id'])\n",
    "    pbar.set_postfix_str(name)\n",
    "    try:\n",
    "        jid = int(OSO.get_request(rid)['jid'][1:])\n",
    "        data = OSO.get_obs(OSO.get_job(jid), cube=True, verbose=False)\n",
    "        if data :\n",
    "            fp = f'VS/{\"_\".join(name.split())}'\n",
    "            os.makedirs(fp, exist_ok=True)\n",
    "            fn = f'{jid}'\n",
    "            try :\n",
    "                os.symlink(os.path.abspath(data.name), f'{fp}/{fn}.fits')\n",
    "            except FileExistsError:\n",
    "                pass\n",
    "        else :\n",
    "            print(f'Download of J{jid} failed')\n",
    "    except TimeoutError :\n",
    "        print(f'Download of J{jid} failed, timeout')\n",
    "        pass"
   ]
  },
  {
   "cell_type": "code",
   "execution_count": null,
   "id": "9103bc32-9b3c-4010-9c9f-76b02a915f85",
   "metadata": {},
   "outputs": [],
   "source": []
  }
 ],
 "metadata": {
  "kernelspec": {
   "display_name": "Python 3 (ipykernel)",
   "language": "python",
   "name": "python3"
  }
 },
 "nbformat": 4,
 "nbformat_minor": 5
}
