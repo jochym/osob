{
 "cells": [
  {
   "cell_type": "code",
   "execution_count": null,
   "id": "3d9faf71-b0d4-44e2-904a-f47d57277e05",
   "metadata": {},
   "outputs": [],
   "source": [
    "#| default_exp aavso"
   ]
  },
  {
   "cell_type": "code",
   "execution_count": null,
   "id": "f9a519c9-c4f8-4cf1-9e99-0fb3f95083d7",
   "metadata": {},
   "outputs": [],
   "source": [
    "#| hide\n",
    "from nbdev.showdoc import *\n",
    "from nbdev import *"
   ]
  },
  {
   "cell_type": "code",
   "execution_count": null,
   "id": "c9d30e1e-782b-460c-9fdf-76810cdbdd96",
   "metadata": {},
   "outputs": [],
   "source": [
    "#| export\n",
    "import sys\n",
    "import mechanicalsoup\n",
    "from lxml import etree\n",
    "from math import sqrt"
   ]
  },
  {
   "cell_type": "code",
   "execution_count": null,
   "id": "a1a67f87-989e-4578-8750-ed297f9725e9",
   "metadata": {},
   "outputs": [],
   "source": [
    "#| exporti\n",
    "mech = mechanicalsoup.StatefulBrowser(soup_config={'features': 'lxml'})"
   ]
  },
  {
   "cell_type": "code",
   "execution_count": null,
   "id": "1fc1b91f-074f-44b3-aff7-918084d2cac7",
   "metadata": {},
   "outputs": [],
   "source": [
    "#| export\n",
    "def prtMag(m):\n",
    "    m=m.split()\n",
    "    if m[0]=='-' :\n",
    "        return None\n",
    "    v=float(m[0])\n",
    "    try :\n",
    "        e=float(m[1][1:-1])\n",
    "    except ValueError:\n",
    "        e=0.0\n",
    "    return '%f/%f' % (v,e)\n",
    "\n",
    "dsgn=['u', 'b', 'v', 'rc', 'ic']"
   ]
  },
  {
   "cell_type": "code",
   "execution_count": null,
   "id": "dbecbe89-c289-4a38-a52a-066ae5a81b71",
   "metadata": {},
   "outputs": [],
   "source": [
    "#| export\n",
    "def get_VS_sequence(vs, fov=60, maglimit=17, DEBUG = False):\n",
    "    #fov*=sqrt(2)\n",
    "    url=\"http://www.aavso.org/cgi-bin/vsp.pl?name=%s&ccdtable=on&fov=%d\" % (\"%20\".join(vs.split()),fov)\n",
    "    url=\"https://www.aavso.org/apps/vsp/photometry/?fov=%.1f&star=%s&Rc=on&B=on&maglimit=%.1f\" % ( fov,\n",
    "            '+'.join(vs.split()), maglimit)\n",
    "    page = mech.open(url)\n",
    "    html = ''.join([str(ln) for ln in page.soup])\n",
    "    page.close()\n",
    "    parser=etree.HTMLParser()\n",
    "    #tree=etree.parse(open('rcp/sekw.html'),parser)\n",
    "    tree=etree.fromstring(html,parser)\n",
    "\n",
    "    try :\n",
    "        var=' '.join(tree.xpath('//p//strong//text()')[0].split()[1:])\n",
    "        ra=tree.xpath('//p//strong//text()')[1].split()[0]\n",
    "        dec=tree.xpath('//p//strong//text()')[2].split()[0]\n",
    "        seq=tree.xpath('//p//strong//text()')[3]\n",
    "    except IndexError :\n",
    "        #print('Cannot get AAVSO sequence for', vs)\n",
    "        return None, None\n",
    "\n",
    "    stars=[]\n",
    "\n",
    "    if DEBUG :\n",
    "        print('\\nSequence %s for: %s ( ra: %s  dec: %s )' % (seq, var, ra, dec), file=sys.stderr)\n",
    "\n",
    "    for tab in tree.xpath('//table//tbody')[0:1]:\n",
    "        #print >> sys.stderr, 'Sequence:', seq\n",
    "        for row in tab.xpath('./tr')[1:-2]:\n",
    "            c=row.xpath('./td/text()')\n",
    "            auid=c[0]\n",
    "            lbl=row.xpath('./td/strong/text()')[0]\n",
    "            ra=c[1].split()[0]\n",
    "            ra_flt=float(c[1].split()[1][1:-2])\n",
    "            dec=c[2].split()[0]\n",
    "            dec_flt=float(c[2].split()[1][1:-2])\n",
    "            #print(c, file=sys.stderr)\n",
    "            #print(auid, lbl, ra, ra_flt, dec, dec_flt, file=sys.stderr)\n",
    "    #        for d,m in zip(dsgn, (c[4], c[5], c[6], c[8], c[9])):\n",
    "    #            s=prtMag(m)\n",
    "    #            if s :\n",
    "    #                print '%s=%s' % (d,s),\n",
    "            #print c[-1]\n",
    "            stars.append([auid, lbl, ra, ra_flt, dec, dec_flt] +\n",
    "                        [v  for v in c[3:7]])\n",
    "            #print c\n",
    "            #print lbl, \"ID:%s U:%s B:%s V:%s Rc:%s Ic:%s Cmnt:%s\" %(c[0], c[4], c[5], c[6], c[8], c[9],c[-1])\n",
    "\n",
    "    #print(' ', seq, fov, file=sys.stderr)\n",
    "    return seq, stars"
   ]
  },
  {
   "cell_type": "code",
   "execution_count": null,
   "id": "68460896-1806-49d8-8df8-0a27abe07725",
   "metadata": {},
   "outputs": [
    {
     "name": "stdout",
     "output_type": "stream",
     "text": [
      "Sequence: X28196YX (8 stars) for SS Cyg:\n",
      "000-BCP-217 ( 96) 10.653 (0.097)  9.630 (0.081)  1.023 (0.126)  9.091 (0.094) \n",
      "000-BCP-198 ( 98) 10.162 (0.080)  9.794 (0.071)  0.368 (0.107)  9.601 (0.071) \n",
      "000-BCP-194 (103) 10.712 (0.094) 10.279 (0.073)  0.433 (0.119)              — \n",
      "000-BCP-224 (108) 10.954 (0.110) 10.831 (0.080)  0.123 (0.136)              — \n",
      "000-BCP-202 (109) 11.451 (0.032) 10.898 (0.027)  0.553 (0.042) 10.591 (0.027) \n",
      "000-BCP-241 (114) 12.038 (0.032) 11.413 (0.026)  0.625 (0.041) 11.051 (0.033) \n",
      "000-BCP-207 (119) 12.486 (0.019) 11.866 (0.015)  0.620 (0.024) 11.507 (0.019) \n",
      "000-BDC-473 (123) 12.898 (0.021) 12.279 (0.020)  0.619 (0.029) 11.937 (0.024) \n"
     ]
    }
   ],
   "source": [
    "VS = 'SS Cyg'\n",
    "seq = get_VS_sequence(VS, 30, 16.5)\n",
    "\n",
    "print(f'Sequence: {seq[0]} ({len(seq[1])} stars) for {VS}:')\n",
    "for s in seq[1]:\n",
    "    print(f'{s[0]} ({s[1]:>3})', end=' ')\n",
    "    for v in s[6:]:\n",
    "        print(f'{v:>14}', end=' ')\n",
    "    print()"
   ]
  },
  {
   "cell_type": "code",
   "execution_count": null,
   "id": "0873eb15-7733-409b-97df-e93d5293534d",
   "metadata": {},
   "outputs": [],
   "source": [
    "from nbdev import nbdev_export; nbdev_export()"
   ]
  }
 ],
 "metadata": {
  "kernelspec": {
   "display_name": "Python 3 (ipykernel)",
   "language": "python",
   "name": "python3"
  }
 },
 "nbformat": 4,
 "nbformat_minor": 5
}
