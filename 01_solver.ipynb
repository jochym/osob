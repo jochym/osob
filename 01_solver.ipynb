{
 "cells": [
  {
   "cell_type": "code",
   "execution_count": null,
   "id": "8fbf0df1-8b79-4f6e-9df4-93fb1708ca2f",
   "metadata": {},
   "outputs": [],
   "source": [
    "# default_exp solver"
   ]
  },
  {
   "cell_type": "markdown",
   "id": "34d0fc4b-e38b-4a45-948d-1f980dae9a16",
   "metadata": {},
   "source": [
    "# solver\n",
    "\n",
    "> Field solver module - thin layer over other field solver services."
   ]
  },
  {
   "cell_type": "code",
   "execution_count": null,
   "id": "c2784bfc-dc7e-4cf4-b05f-9547942d5070",
   "metadata": {},
   "outputs": [],
   "source": [
    "#hide\n",
    "from nbdev.showdoc import *\n",
    "from nbdev import *"
   ]
  },
  {
   "cell_type": "code",
   "execution_count": null,
   "id": "b3013be4-0481-48e6-a83b-30d8c0c17765",
   "metadata": {},
   "outputs": [],
   "source": [
    "#export\n",
    "import configparser\n",
    "import logging\n",
    "from fastcore.basics import patch\n",
    "from os.path import expanduser\n",
    "import os, tempfile, shutil\n",
    "from io import StringIO, BytesIO\n",
    "from astroquery.astrometry_net import AstrometryNet\n",
    "from astroquery.exceptions import TimeoutError as ASTTimeoutError\n",
    "from astropy.time import Time\n",
    "from astropy.io import fits\n",
    "from astropy.coordinates import SkyCoord, Longitude, Latitude\n",
    "from osob.core import Telescope"
   ]
  },
  {
   "cell_type": "code",
   "execution_count": null,
   "id": "30fc4717-fc80-44ce-bf3e-ff1cf75b16ec",
   "metadata": {},
   "outputs": [],
   "source": [
    "#export\n",
    "class Solver:\n",
    "    '''\n",
    "    Wrapper of AstrometryNet solver from astropy tuned for the use in osob use.\n",
    "    '''\n",
    "    \n",
    "    _cmd = 'solve-field'\n",
    "    _args = '-p -l 15 -O -L %d -H %d -u app -3 %f -4 %f -5 5 %s'\n",
    "    _telescopes={\n",
    "        'galaxy':   (1,2),\n",
    "        'cluster':  (14,16),\n",
    "        'coast': (1, 2),\n",
    "        'pirate': (1, 2),\n",
    "        '10micron': (1, 2),\n",
    "        'cdk17': (1, 2),\n",
    "    }\n",
    "\n",
    "    \n",
    "    def __init__(self, api_key=None, cache='.cache/wcs', cmd=None, args=None):\n",
    "        if cmd is None:\n",
    "            self._cmd = Solver._cmd\n",
    "        else:\n",
    "            self._cmd = cmd\n",
    "        if args is None:\n",
    "            self._args = Solver._args\n",
    "        else:\n",
    "            self._args = args\n",
    "        self._cmd = ' '.join((self._cmd, self._args))\n",
    "        self.ast = AstrometryNet()\n",
    "        self.api_key = api_key\n",
    "        self._cache = cache"
   ]
  },
  {
   "cell_type": "code",
   "execution_count": null,
   "id": "16b18969-91b8-4a5e-990b-7d785bda6f4b",
   "metadata": {},
   "outputs": [],
   "source": [
    "#export\n",
    "@patch\n",
    "def solve(self: Solver, hdu, crop=(slice(0,-32), slice(0,-32)), force_solve=False):\n",
    "    loger = logging.getLogger(__name__)\n",
    "    if hdu.verify_datasum()!=1:\n",
    "        hdu.add_datasum()\n",
    "    fn = f'{int(hdu.header[\"DATASUM\"]):08X}.wcs'\n",
    "    fp = os.path.join(self._cache,fn[0],fn[1],fn)\n",
    "    if force_solve or not os.path.isfile(fp) :\n",
    "        loger.info(f'Solving for {fn[:-4]}')\n",
    "        print(f'Solving for {fn[:-4]}')\n",
    "        s = self._solveField_local(hdu)\n",
    "        if s:\n",
    "            wcs_header = fits.Header(s.header)\n",
    "            #wcs_header['NAXIS'] = 2\n",
    "            #wcs_header['NAXIS1'] = wcs_header['IMAGEW']\n",
    "            #wcs_header['NAXIS2'] = wcs_header['IMAGEH']\n",
    "            os.makedirs(os.path.dirname(fp), exist_ok=True)\n",
    "            with open(fp, 'w') as fh:\n",
    "                wcs_header.totextfile(fp)\n",
    "        else:\n",
    "            wcs_header = None\n",
    "    else :\n",
    "        loger.info(f'Getting {fn[:-4]} from cache')\n",
    "        print(f'Getting {fn[:-4]} from cache')\n",
    "        with open(fp, 'r') as fh:\n",
    "            wcs_header = fits.Header.fromtextfile(fh)        \n",
    "    return wcs_header"
   ]
  },
  {
   "cell_type": "code",
   "execution_count": null,
   "id": "a08b89be-740b-4226-b140-4615b398e696",
   "metadata": {},
   "outputs": [],
   "source": [
    "#export\n",
    "@patch\n",
    "def _getFrameRaDec(self: Solver, hdu):\n",
    "    if 'OBJCTRA' in hdu.header:\n",
    "        ra=hdu.header['OBJCTRA']\n",
    "        dec=hdu.header['OBJCTDEC']\n",
    "    elif 'MNTRA' in hdu.header :\n",
    "        ra=hdu.header['MNTRA']\n",
    "        dec=hdu.header['MNTDEC']\n",
    "    elif 'RA-TEL' in hdu.header :\n",
    "        ra=hdu.header['RA-TEL']\n",
    "        dec=hdu.header['DEC-TEL']\n",
    "    else :\n",
    "        raise KeyError\n",
    "\n",
    "    try :\n",
    "        eq=Time(hdu.header['EQUINOX'], format='decimalyear')\n",
    "    except KeyError :\n",
    "        eq=Time(2000, format='decimalyear')\n",
    "\n",
    "    o=SkyCoord(Longitude(ra, unit='hour'),\n",
    "               Latitude(dec, unit='deg'),\n",
    "               frame='icrs', obstime=hdu.header['DATE-OBS'],\n",
    "               equinox=eq)\n",
    "    return o\n"
   ]
  },
  {
   "cell_type": "code",
   "execution_count": null,
   "id": "3108d115-ca0b-433f-9484-f689bc155947",
   "metadata": {},
   "outputs": [],
   "source": [
    "#export\n",
    "@patch\n",
    "def _solveField_local(self: Solver, hdu, cleanup=True):\n",
    "    loger = logging.getLogger(__name__)\n",
    "    o=self._getFrameRaDec(hdu)\n",
    "    ra=o.ra.deg\n",
    "    dec=o.dec.deg\n",
    "    tel = hdu.header['TELESCOP'].lower()\n",
    "    if 'brt' in tel:\n",
    "        tel=tel.split()[1]\n",
    "    else :\n",
    "        tel=tel.split()[0]\n",
    "\n",
    "    loapp, hiapp=Solver._telescopes[tel]\n",
    "    td=tempfile.mkdtemp(prefix='field-solver')\n",
    "    try :\n",
    "        fn=tempfile.mkstemp(dir=td, suffix='.fits')\n",
    "        loger.debug(td, fn)\n",
    "        hdu.writeto(fn[1])\n",
    "        loger.debug((self._cmd % (loapp, hiapp, ra, dec, fn[1])))\n",
    "        print((self._cmd % (loapp, hiapp, ra, dec, fn[1])))\n",
    "        solver=os.popen(self._cmd % (loapp, hiapp, ra, dec, fn[1]))\n",
    "        for ln in solver:\n",
    "            loger.debug(ln.strip())\n",
    "        shdu=fits.open(BytesIO(open(fn[1][:-5]+'.new','rb').read()))\n",
    "        return shdu[0]\n",
    "    except IOError :\n",
    "        return None\n",
    "    finally :\n",
    "        if cleanup :\n",
    "            shutil.rmtree(td)\n"
   ]
  },
  {
   "cell_type": "code",
   "execution_count": null,
   "id": "afbad249-d3db-4e6a-b8ae-1f1be92ff217",
   "metadata": {},
   "outputs": [],
   "source": [
    "#local\n",
    "config = configparser.ConfigParser()\n",
    "config.read(expanduser('~/.config/telescope.ini'))\n",
    "solver = Solver(config['astrometry.net']['apikey'])"
   ]
  },
  {
   "cell_type": "code",
   "execution_count": null,
   "id": "8c88e0ce-9a52-48d6-9ae0-39403f6cc44b",
   "metadata": {},
   "outputs": [
    {
     "name": "stdout",
     "output_type": "stream",
     "text": [
      "Getting CF4D901F from cache\n",
      "WCS Keywords\n",
      "\n",
      "Number of WCS axes: 2\n",
      "CTYPE : 'RA---TAN-SIP'  'DEC--TAN-SIP'  \n",
      "CRVAL : 325.591495115  43.4399325142  \n",
      "CRPIX : 946.962253571  307.916046143  \n",
      "CD1_1 CD1_2  : -0.000336634944406  -5.37833544391e-06  \n",
      "CD2_1 CD2_2  : -5.12488694137e-06  0.00033744533956  \n",
      "NAXIS : 1536  1536  3\n"
     ]
    },
    {
     "name": "stderr",
     "output_type": "stream",
     "text": [
      "WARNING: FITSFixedWarning: EPOCH = 'REAL' \n",
      "a floating-point value was expected. [astropy.wcs.wcs]\n",
      "WARNING: FITSFixedWarning: RADECSYS= 'ICRS' \n",
      "the RADECSYS keyword is deprecated, use RADESYSa. [astropy.wcs.wcs]\n"
     ]
    }
   ],
   "source": [
    "#local\n",
    "from astropy.io import fits\n",
    "from astropy.wcs import WCS\n",
    "\n",
    "hdu = fits.open('.cache/jobs/3/4/340922.fits')[0]\n",
    "s_hdu = solver.solve(hdu)\n",
    "\n",
    "assert s_hdu\n",
    "\n",
    "w = WCS(s_hdu, naxis=2)\n",
    "w.printwcs()"
   ]
  },
  {
   "cell_type": "code",
   "execution_count": null,
   "id": "7002cf0a-09c2-4e39-a5da-19596073a0f4",
   "metadata": {},
   "outputs": [],
   "source": []
  },
  {
   "cell_type": "code",
   "execution_count": null,
   "id": "4ca252bb-51ca-4494-955e-f7c25048d227",
   "metadata": {},
   "outputs": [
    {
     "name": "stdout",
     "output_type": "stream",
     "text": [
      "Converted 00_core.ipynb.\n",
      "Converted 01_solver.ipynb.\n",
      "Converted 02_process.ipynb.\n",
      "Converted index.ipynb.\n"
     ]
    }
   ],
   "source": [
    "from nbdev.export import notebook2script; notebook2script()"
   ]
  }
 ],
 "metadata": {
  "kernelspec": {
   "display_name": "Python 3 (ipykernel)",
   "language": "python",
   "name": "python3"
  }
 },
 "nbformat": 4,
 "nbformat_minor": 5
}
