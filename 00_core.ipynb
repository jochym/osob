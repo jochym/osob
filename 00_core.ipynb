{
 "cells": [
  {
   "cell_type": "code",
   "execution_count": 1,
   "metadata": {},
   "outputs": [],
   "source": [
    "#| default_exp core"
   ]
  },
  {
   "cell_type": "markdown",
   "metadata": {},
   "source": [
    "# OSOb\n",
    "\n",
    "> This is a python module providing communication abstractions for the OpenScience Observatories telescope.org service. The telescope control is provided through the `Telescope` class which provides state tracking and low level methods - forming a basic API layer. The higher level functions are implemented as separate functions construced with the Telescope class API."
   ]
  },
  {
   "cell_type": "code",
   "execution_count": 2,
   "metadata": {},
   "outputs": [],
   "source": [
    "#| hide\n",
    "from nbdev.showdoc import *\n",
    "from nbdev import *"
   ]
  },
  {
   "cell_type": "code",
   "execution_count": 3,
   "metadata": {},
   "outputs": [],
   "source": [
    "#| export\n",
    "import logging\n",
    "from requests import session\n",
    "from bs4 import BeautifulSoup\n",
    "import configparser\n",
    "from os.path import expanduser\n",
    "import json\n",
    "from fastcore.basics import patch\n",
    "from zipfile import ZipFile, BadZipFile\n",
    "from tqdm.auto import tqdm\n",
    "import sys\n",
    "import os\n",
    "import time\n",
    "from astropy.coordinates import SkyCoord, Longitude, Latitude"
   ]
  },
  {
   "cell_type": "markdown",
   "metadata": {},
   "source": [
    "## Telescope class\n",
    "\n",
    "This class orginizes all interaction with the service. It keeps all state and provides higher level functions like `login` or `get_user_requests`."
   ]
  },
  {
   "cell_type": "code",
   "execution_count": 4,
   "metadata": {},
   "outputs": [],
   "source": [
    "#| export\n",
    "class Telescope :\n",
    "\n",
    "    url='https://www.telescope.org/'\n",
    "    cameratypes={\n",
    "        'constellation':'1',\n",
    "        'galaxy':       '2',\n",
    "        'cluster':      '3',\n",
    "        'planet':'5',\n",
    "        'coast':'6',\n",
    "        'pirate':'7',\n",
    "    }\n",
    "\n",
    "    REQUESTSTATUS_TEXTS={\n",
    "        1: \"New\",\n",
    "        2: \"New, allocated\",\n",
    "        3: \"Waiting\",\n",
    "        4: \"In progress\",\n",
    "        5: \"Reallocate\",\n",
    "        6: \"Waiting again\",\n",
    "        7: \"Complete on site\",\n",
    "        8: \"Complete\",\n",
    "        9: \"Hold\",\n",
    "        10: \"Frozen\",\n",
    "        20: \"Expired\",\n",
    "        21: \"Expired w/CJobs\",\n",
    "        22: \"Cancelled\",\n",
    "        23: \"Cancelled w/CJobs\",\n",
    "        24: \"Invalid\",\n",
    "        25: \"Never rises\",\n",
    "        26: \"Other error\",\n",
    "    }\n",
    "\n",
    "    def __init__(self,user,passwd,cache='.cache/jobs'):\n",
    "        self.s=None\n",
    "        self.user=user\n",
    "        self.passwd=passwd\n",
    "        self.tout=60\n",
    "        self.retry=15\n",
    "        self.login()\n",
    "        self.cache=cache"
   ]
  },
  {
   "cell_type": "code",
   "execution_count": 5,
   "metadata": {},
   "outputs": [],
   "source": [
    "#| export\n",
    "def cleanup(s):\n",
    "    return s.encode('ascii','ignore').decode('ascii','ignore')"
   ]
  },
  {
   "cell_type": "code",
   "execution_count": 6,
   "metadata": {},
   "outputs": [],
   "source": [
    "assert cleanup('|ążźćńłóęśĄŻŹĆŃŁÓĘŚ|') == '||'"
   ]
  },
  {
   "cell_type": "code",
   "execution_count": 7,
   "metadata": {},
   "outputs": [],
   "source": [
    "#| export\n",
    "@patch\n",
    "def login(self: Telescope):\n",
    "    log = logging.getLogger(__name__)\n",
    "    payload = {'action': 'login',\n",
    "               'username': self.user,\n",
    "               'password': self.passwd,\n",
    "               'stayloggedin': 'true'}\n",
    "    log.debug('Get session ...')\n",
    "    self.s=session()\n",
    "    log.debug('Logging in ...')\n",
    "    self.s.post(self.url+'login.php', data=payload)"
   ]
  },
  {
   "cell_type": "code",
   "execution_count": 8,
   "metadata": {},
   "outputs": [],
   "source": [
    "#| export\n",
    "@patch\n",
    "def logout(self: Telescope):\n",
    "    if self.s is None :\n",
    "        self.s.post(self.url+'logout.php')\n",
    "        self.s=None\n",
    " "
   ]
  },
  {
   "cell_type": "code",
   "execution_count": 9,
   "metadata": {},
   "outputs": [
    {
     "data": {
      "text/plain": [
       "['/home/jochym/.config/telescope.ini']"
      ]
     },
     "execution_count": 9,
     "metadata": {},
     "output_type": "execute_result"
    }
   ],
   "source": [
    "#| local\n",
    "config = configparser.ConfigParser()\n",
    "config.read(expanduser('~/.config/telescope.ini'))"
   ]
  },
  {
   "cell_type": "code",
   "execution_count": 10,
   "metadata": {},
   "outputs": [],
   "source": [
    "#| local\n",
    "OSO=Telescope(config['telescope.org']['user'], \n",
    "              config['telescope.org']['password'])"
   ]
  },
  {
   "cell_type": "code",
   "execution_count": 11,
   "metadata": {},
   "outputs": [],
   "source": [
    "#| export\n",
    "@patch\n",
    "def get_user_requests(self: Telescope, sort='rid', folder=1):\n",
    "    '''\n",
    "    Get all user requests from folder (Inbox=1 by default),\n",
    "    sorted by sort column ('rid' by default). \n",
    "    Possible sort columns are: 'rid', 'object', 'completion'\n",
    "    The data is returned as a list of dictionaries.\n",
    "    '''\n",
    "\n",
    "    #fetch first batch        \n",
    "    params={\n",
    "        'limit': 100,\n",
    "        'sort': sort,\n",
    "        'folderid': folder}\n",
    "\n",
    "    rq = self.s.post(self.url+\"api-user.php\", {'module': \"request-manager\", \n",
    "                                               'request': \"1-get-list-own\",\n",
    "                                               'params' : json.dumps(params)})\n",
    "    res=[]\n",
    "    dat=json.loads(rq.content)\n",
    "    total=int(dat['data']['totalRequests'])\n",
    "    res+=dat['data']['requests']\n",
    "\n",
    "    # Fetch the rest\n",
    "    params['limit']=total-len(res)\n",
    "    params['startAfterRow']=len(res)\n",
    "    rq = self.s.post(self.url+\"api-user.php\", {'module': \"request-manager\", \n",
    "                                               'request': \"1-get-list-own\",\n",
    "                                               'params' : json.dumps(params)})\n",
    "\n",
    "    dat=json.loads(rq.content)\n",
    "    total=int(dat['data']['totalRequests'])\n",
    "    res+=dat['data']['requests']\n",
    "    return res"
   ]
  },
  {
   "cell_type": "code",
   "execution_count": 12,
   "metadata": {},
   "outputs": [
    {
     "name": "stdout",
     "output_type": "stream",
     "text": [
      "Number of users requests: 1189\n"
     ]
    },
    {
     "data": {
      "text/plain": [
       "{'id': '725917',\n",
       " 'seen': '0',\n",
       " 'usercomments': '',\n",
       " 'objecttype': 'RADEC',\n",
       " 'objectid': '18:55:02.31 -31:09:49.59',\n",
       " 'objectname': 'V1223 Sgr',\n",
       " 'requesttime': '1630285858',\n",
       " 'status': '3',\n",
       " 'row': '1'}"
      ]
     },
     "execution_count": 12,
     "metadata": {},
     "output_type": "execute_result"
    }
   ],
   "source": [
    "#| local\n",
    "reqlst=OSO.get_user_requests(sort='completion')\n",
    "print(f'Number of users requests: {len(reqlst)}')\n",
    "reqlst[0]"
   ]
  },
  {
   "cell_type": "code",
   "execution_count": 13,
   "metadata": {},
   "outputs": [],
   "source": [
    "#| export\n",
    "@patch\n",
    "def get_request(self: Telescope, rid=None):\n",
    "    '''Get request data for a given RID'''\n",
    "\n",
    "    assert(rid is not None)\n",
    "    assert(self.s is not None)\n",
    "\n",
    "    log = logging.getLogger(__name__)\n",
    "    log.debug(rid)\n",
    "\n",
    "    obs={}\n",
    "    obs['rid']=rid\n",
    "    #rq=self.s.post(self.url+('v3cjob-view.php?jid=%d' % jid))\n",
    "    rq=self.s.post(self.url+('v4request-view.php?rid=%d' % rid))\n",
    "    soup = BeautifulSoup(rq.text, 'lxml')\n",
    "    for l in soup.findAll('tr'):\n",
    "        log.debug(cleanup(l.text))\n",
    "        txt=''\n",
    "        for f in l.findAll('td'):\n",
    "            if txt.find('Job ID') >= 0:\n",
    "                obs['jid']=f.text\n",
    "            if txt.find('Object Type') >= 0:\n",
    "                obs['type']=f.text\n",
    "            if txt.find('Object ID') >= 0:\n",
    "                obs['oid']=f.text\n",
    "            if txt.find('Object Name') >= 0:\n",
    "                obs['name']=f.text\n",
    "            if txt.find('Telescope Type Name') >= 0:\n",
    "                obs['tele_type']=f.text\n",
    "            if txt.find('Telescope Name') >= 0:\n",
    "                obs['tele']=f.text\n",
    "            if txt.find('Filter Type') >= 0:\n",
    "                obs['filter']=f.text\n",
    "            if txt.find('Dark Frame') >= 0:\n",
    "                obs['dark']=f.text\n",
    "            if txt.find('Exposure Time') >= 0:\n",
    "                obs['exp']=f.text\n",
    "            if txt.find('Request Time') >= 0:\n",
    "                t=f.text.split()\n",
    "                obs['requested']=t[3:6]+[t[6][1:]]+[t[7][:-1]]\n",
    "            if txt.find('Completion Time') >= 0:\n",
    "                t=f.text.split()\n",
    "                obs['completion']=t[3:6]+[t[6][1:]]+[t[7][:-1]]\n",
    "            if txt.find('Status') >= 0:\n",
    "                obs['status']= f.text.strip() #(f.text == 'Success')\n",
    "\n",
    "            txt=f.text\n",
    "    for l in soup.findAll('a'):\n",
    "        if l.get('href')is not None and ('dl-flat' in l.get('href')):\n",
    "            obs['flatid']=int(l.get('href').split('=')[1])\n",
    "            break\n",
    "    log.info('%(jid)d [%(tele)s, %(filter)s, %(status)s]: %(type)s %(oid)s %(exp)s', obs)\n",
    "\n",
    "    return obs    "
   ]
  },
  {
   "cell_type": "code",
   "execution_count": 14,
   "metadata": {},
   "outputs": [],
   "source": [
    "#| export\n",
    "@patch\n",
    "def get_user_folders(self: Telescope):\n",
    "    '''\n",
    "    Get all user folders. Returns list of dictionaries.\n",
    "    '''\n",
    "    rq = self.s.post(self.url+\"api-user.php\", {'module': \"request-manager\", \n",
    "                                               'request': \"0-get-my-folders\"})\n",
    "    return json.loads(rq.content)['data']"
   ]
  },
  {
   "cell_type": "code",
   "execution_count": 15,
   "metadata": {},
   "outputs": [
    {
     "data": {
      "text/plain": [
       "[{'id': '1', 'creationtime': '0', 'name': 'Inbox', 'count': '1189'},\n",
       " {'id': '2', 'creationtime': '0', 'name': 'Favourites', 'count': None},\n",
       " {'id': '3', 'creationtime': '0', 'name': 'Archive', 'count': '447'},\n",
       " {'id': '4', 'creationtime': '0', 'name': 'Trash', 'count': '52'},\n",
       " {'id': '461',\n",
       "  'creationtime': '1407254495',\n",
       "  'name': 'Complete',\n",
       "  'count': '13'}]"
      ]
     },
     "execution_count": 15,
     "metadata": {},
     "output_type": "execute_result"
    }
   ],
   "source": [
    "#| local\n",
    "OSO.get_user_folders()"
   ]
  },
  {
   "cell_type": "code",
   "execution_count": 16,
   "metadata": {},
   "outputs": [],
   "source": [
    "#| export\n",
    "@patch\n",
    "def get_obs_list(self: Telescope, t=None, dt=1, filtertype='', camera='', hour=16, minute=0):\n",
    "    '''Get the dt days of observations taken no later then time in t.\n",
    "\n",
    "        Input\n",
    "        ------\n",
    "        t  - end time in seconds from the epoch\n",
    "            (as returned by time.time())\n",
    "        dt - number of days, default to 1\n",
    "        filtertype - filter by type of filter used\n",
    "        camera - filter by the camera/telescope used\n",
    "\n",
    "        Output\n",
    "        ------\n",
    "        Returns a list of JobIDs (int) for the observations.\n",
    "\n",
    "    '''\n",
    "\n",
    "    assert(self.s is not None)\n",
    "\n",
    "    if t is None :\n",
    "        t=time.time()-time.timezone\n",
    "\n",
    "\n",
    "    st=time.gmtime(t-86400*dt)\n",
    "    et=time.gmtime(t)\n",
    "\n",
    "    d=st.tm_mday\n",
    "    m=st.tm_mon\n",
    "    y=st.tm_year\n",
    "    de=et.tm_mday\n",
    "    me=et.tm_mon\n",
    "    ye=et.tm_year\n",
    "\n",
    "    log = logging.getLogger(__name__)\n",
    "    log.debug('%d/%d/%d -> %d/%d/%d', d,m,y,de,me,ye)\n",
    "\n",
    "    try :\n",
    "        telescope=self.cameratypes[camera.lower()]\n",
    "    except KeyError:\n",
    "        telescope=''\n",
    "\n",
    "    searchdat = {\n",
    "        'sort1':'completetime',\n",
    "        'sort1order':'desc',\n",
    "        'searchearliestcom[]':[d, m, y, str(hour),str(minute)],\n",
    "        'searchlatestcom[]':  [de,me,ye,str(hour),str(minute)],\n",
    "        'searchstatus[]':['1'],\n",
    "        'resultsperpage':'1000',\n",
    "        'searchfilter':filtertype,\n",
    "        'searchtelescope':telescope,\n",
    "        'submit':'Go'\n",
    "    }\n",
    "\n",
    "    headers = {'Content-Type': 'application/x-www-form-urlencoded'}\n",
    "\n",
    "\n",
    "    request = self.s.post(self.url+'v3job-search-query.php',\n",
    "                     data=searchdat, headers=headers)\n",
    "    soup = BeautifulSoup(request.text,'lxml')\n",
    "\n",
    "    jlst=[]\n",
    "    for l in soup.findAll('tr'):\n",
    "        try :\n",
    "            a=l.find('a').get('href')\n",
    "        except AttributeError :\n",
    "            continue\n",
    "        jid=a.rfind('jid')\n",
    "        if jid>0 :\n",
    "            jid=a[jid+4:].split('&')[0]\n",
    "            jlst.append(int(jid))\n",
    "    return jlst\n"
   ]
  },
  {
   "cell_type": "code",
   "execution_count": 17,
   "metadata": {},
   "outputs": [
    {
     "name": "stdout",
     "output_type": "stream",
     "text": [
      "Observations: 54\n"
     ]
    }
   ],
   "source": [
    "#| local \n",
    "import datetime\n",
    "\n",
    "olst = OSO.get_obs_list(t=datetime.datetime(2020, 12, 24).timestamp())\n",
    "print(f'Observations: {len(olst)}')"
   ]
  },
  {
   "cell_type": "code",
   "execution_count": 18,
   "metadata": {},
   "outputs": [],
   "source": [
    "#| export\n",
    "@patch\n",
    "def get_job(self: Telescope, jid=None):\n",
    "    '''Get a job data for a given JID'''\n",
    "\n",
    "    assert(jid is not None)\n",
    "    assert(self.s is not None)\n",
    "\n",
    "    log = logging.getLogger(__name__)\n",
    "    log.debug(jid)\n",
    "\n",
    "    obs={}\n",
    "    obs['jid']=jid\n",
    "    #rq=self.s.post(self.url+('v3cjob-view.php?jid=%d' % jid))\n",
    "    rq=self.s.post(self.url+('v4request-view.php?jid=%d' % jid))\n",
    "    soup = BeautifulSoup(rq.text, 'lxml')\n",
    "    for l in soup.findAll('tr'):\n",
    "        log.debug(cleanup(l.text))\n",
    "        txt=''\n",
    "        for f in l.findAll('td'):\n",
    "            if txt.find('Request ID') >= 0:\n",
    "                obs['rid']=f.text            \n",
    "            if txt.find('Object Type') >= 0:\n",
    "                obs['type']=f.text\n",
    "            if txt.find('Object ID') >= 0:\n",
    "                obs['oid']=f.text\n",
    "            if txt.find('Telescope Type Name') >= 0:\n",
    "                obs['tele']=f.text\n",
    "            if txt.find('Filter Type') >= 0:\n",
    "                obs['filter']=f.text\n",
    "            if txt.find('Exposure Time') >= 0:\n",
    "                obs['exp']=f.text\n",
    "            if txt.find('Completion Time') >= 0:\n",
    "                t=f.text.split()\n",
    "                obs['completion']=t[3:6]+[t[6][1:]]+[t[7][:-1]]\n",
    "            if txt.find('Status') >= 0:\n",
    "                obs['status']= (f.text == 'Success')\n",
    "\n",
    "            txt=f.text\n",
    "    for l in soup.findAll('a'):\n",
    "        if l.get('href')is not None and ('dl-flat' in l.get('href')):\n",
    "            obs['flatid']=int(l.get('href').split('=')[1])\n",
    "            break\n",
    "    log.info('%(jid)d [%(tele)s, %(filter)s, %(status)s]: %(type)s %(oid)s %(exp)s', obs)\n",
    "\n",
    "    return obs"
   ]
  },
  {
   "cell_type": "code",
   "execution_count": 19,
   "metadata": {},
   "outputs": [
    {
     "name": "stdout",
     "output_type": "stream",
     "text": [
      "{'id': '725594', 'seen': '1', 'usercomments': 'Mira', 'objecttype': 'RADEC', 'objectid': '20:00:03.02 +22:46:51.55', 'objectname': 'DQ Vul', 'requesttime': '1629985074', 'status': '8', 'row': '6'}\n",
      "{'rid': 725594, 'jid': 'J383652', 'type': 'RADEC', 'oid': '20:00:03.02 +22:46:51.55', 'name': 'DQ Vul', 'exp': '180000 ms', 'filter': 'BVR', 'dark': 'Instant', 'tele_type': 'Galaxy', 'tele': 'COAST', 'requested': ['26', 'August', '2021', '13:37:54', 'UTC'], 'completion': ['31', 'August', '2021', '02:51:11', 'UTC'], 'status': 'Complete', 'flatid': 26}\n"
     ]
    }
   ],
   "source": [
    "#| local\n",
    "for rq in sorted(reqlst, key=lambda r: int(r['requesttime']), reverse=True):\n",
    "    if Telescope.REQUESTSTATUS_TEXTS[int(rq['status'])]=='Complete':\n",
    "        break\n",
    "print(rq)\n",
    "print(OSO.get_request(int(rq['id'])))\n",
    "last_complete = int(OSO.get_request(int(rq['id']))['jid'][1:])"
   ]
  },
  {
   "cell_type": "markdown",
   "metadata": {},
   "source": [
    "### Basic API calls\n",
    "\n",
    "> User-API\n",
    "\n",
    "> Request Manager\n",
    "\n",
    "> Request Constructor"
   ]
  },
  {
   "cell_type": "code",
   "execution_count": 20,
   "metadata": {},
   "outputs": [],
   "source": [
    "#| export\n",
    "@patch\n",
    "def do_api_call(self: Telescope, module, req, params=None):\n",
    "    rq = self.s.post(self.url+\"api-user.php\", {'module': module,\n",
    "                                               'request': req,\n",
    "                                               'params': {} if params is None else json.dumps(params)})\n",
    "    return json.loads(rq.content)"
   ]
  },
  {
   "cell_type": "code",
   "execution_count": 21,
   "metadata": {},
   "outputs": [
    {
     "name": "stdout",
     "output_type": "stream",
     "text": [
      "{'success': 1, 'status': 'OK_WAIT', 'data': {'ieID': '1550470'}}\n",
      "{'success': 1, 'status': 'PROCESSING', 'data': None}\n"
     ]
    }
   ],
   "source": [
    "#| local\n",
    "obs = OSO.get_job(last_complete)\n",
    "rsp = OSO.do_api_call(\"image-engine\", \"0-create-dlzip\", {'jid': obs['jid'], 'flatid': obs['flatid']})\n",
    "print(rsp)\n",
    "rsp = OSO.do_api_call(\"image-engine\", \"0-is-job-ready\", {'ieid':rsp['data']['ieID'],})\n",
    "print(rsp)"
   ]
  },
  {
   "cell_type": "code",
   "execution_count": 22,
   "metadata": {},
   "outputs": [],
   "source": [
    "#| export\n",
    "@patch\n",
    "def do_rm_api(self: Telescope, req, params=None):\n",
    "    return self.do_api_call(\"request-manager\", req, params)\n",
    "\n",
    "\n",
    "#export\n",
    "@patch\n",
    "def do_rc_api(self: Telescope, req, params=None):\n",
    "    return self.do_api_call(\"request-constructor\", req, params)"
   ]
  },
  {
   "cell_type": "code",
   "execution_count": 23,
   "metadata": {},
   "outputs": [],
   "source": [
    "#| export\n",
    "@patch\n",
    "def download_obs(self: Telescope, obs=None, directory='.', cube=True, verbose=False):\n",
    "    '''Download the raw observation obs (obtained from get_job) into zip\n",
    "    file named job_jid.zip located in the directory (current by default).\n",
    "    Alternatively, when the cube=True the file will be a 3D fits file.\n",
    "    The name of the file (without directory) is returned.'''\n",
    "\n",
    "    assert(obs is not None)\n",
    "    assert(self.s is not None)\n",
    "\n",
    "    payload = {'jid': obs['jid']}\n",
    "    if 'flatid' in obs :\n",
    "        payload['flatid']=obs['flatid']\n",
    "    \n",
    "    rsp = self.do_api_call(\"image-engine\", \n",
    "                           \"0-create-dl\" + (\"3d\" if cube else \"zip\"), payload)\n",
    "    ieid = rsp['data']['ieID']\n",
    "\n",
    "    n=0\n",
    "    while rsp['status']!='READY' :\n",
    "        if verbose:\n",
    "            print(f\"{rsp['status']:30}\", end='\\n')\n",
    "        time.sleep(2)\n",
    "        n+=1\n",
    "        rsp = self.do_api_call(\"image-engine\", \"0-is-job-ready\", {'ieid':ieid,})\n",
    "        if n>30:\n",
    "            raise TimeoutError\n",
    "    \n",
    "    if verbose:\n",
    "        print(f\"{rsp['status']:30}\")\n",
    "        sys.stdout.flush()\n",
    "    \n",
    "    rq=self.s.get(self.url+f'v3image-download.php?jid={obs[\"jid\"]}&ieid={ieid}', \n",
    "                  stream=True)\n",
    "\n",
    "    fn = ('%(jid)d.' % obs) + ('fits' if cube else 'zip')\n",
    "    siz = int(rsp['data']['fitssize' if cube else 'fitsbzsize'])\n",
    "    pbar = tqdm(total=siz, unit='iB', unit_scale=True, disable=not verbose)\n",
    "    with open(os.path.join(directory, fn), 'wb') as fd:\n",
    "        for chunk in rq.iter_content(512):\n",
    "            pbar.update(len(chunk))\n",
    "            fd.write(chunk)\n",
    "    pbar.close()\n",
    "    sys.stdout.flush()\n",
    "    if siz==os.stat(os.path.join(directory, fn)).st_size :\n",
    "        return fn\n",
    "    else:\n",
    "        return None"
   ]
  },
  {
   "cell_type": "code",
   "execution_count": 24,
   "metadata": {},
   "outputs": [
    {
     "name": "stdout",
     "output_type": "stream",
     "text": [
      "OK_WAIT                       \n",
      "WAIT                          \n",
      "WAIT                          \n",
      "READY                         \n"
     ]
    },
    {
     "data": {
      "application/vnd.jupyter.widget-view+json": {
       "model_id": "75e0398ac1424c67bd26b64e49591d56",
       "version_major": 2,
       "version_minor": 0
      },
      "text/plain": [
       "  0%|          | 0.00/9.01M [00:00<?, ?iB/s]"
      ]
     },
     "metadata": {},
     "output_type": "display_data"
    },
    {
     "name": "stdout",
     "output_type": "stream",
     "text": [
      "Removing downloaded file: 383652.zip\n"
     ]
    }
   ],
   "source": [
    "#| local\n",
    "fn = OSO.download_obs(OSO.get_job(last_complete), directory='/tmp', cube=False, verbose=True)\n",
    "if fn is not None:\n",
    "    print(f'Removing downloaded file: {fn}')\n",
    "    os.unlink(os.path.join('/tmp', fn))\n",
    "else:\n",
    "    print('Download failed')"
   ]
  },
  {
   "cell_type": "code",
   "execution_count": 25,
   "metadata": {},
   "outputs": [
    {
     "name": "stdout",
     "output_type": "stream",
     "text": [
      "OK_WAIT                       \n",
      "READY                         \n"
     ]
    },
    {
     "data": {
      "application/vnd.jupyter.widget-view+json": {
       "model_id": "81ecba2c3cfa4db8bc520a89ff83935d",
       "version_major": 2,
       "version_minor": 0
      },
      "text/plain": [
       "  0%|          | 0.00/14.2M [00:00<?, ?iB/s]"
      ]
     },
     "metadata": {},
     "output_type": "display_data"
    },
    {
     "name": "stdout",
     "output_type": "stream",
     "text": [
      "Removing downloaded file: 383652.fits\n"
     ]
    }
   ],
   "source": [
    "#| local\n",
    "fn = OSO.download_obs(OSO.get_job(last_complete), directory='/tmp', cube=True, verbose=True)\n",
    "if fn is not None:\n",
    "    print(f'Removing downloaded file: {fn}')\n",
    "    os.unlink(os.path.join('/tmp', fn))\n",
    "else:\n",
    "    print('Download failed')"
   ]
  },
  {
   "cell_type": "code",
   "execution_count": 26,
   "metadata": {},
   "outputs": [],
   "source": [
    "#| export\n",
    "@patch\n",
    "def get_obs(self: Telescope, obs=None, cube=True, recurse=True, verbose=False):\n",
    "    '''Get the raw observation obs (obtained from get_job) into zip\n",
    "    file-like object. The function returns ZipFile structure of the\n",
    "    downloaded data.'''\n",
    "\n",
    "    assert(obs is not None)\n",
    "    assert(self.s is not None)\n",
    "\n",
    "    log = logging.getLogger(__name__)\n",
    "\n",
    "    fn = ('%(jid)d.' % obs) + ('fits' if cube else 'zip')\n",
    "    fp = os.path.join(self.cache,fn[0],fn[1],fn)\n",
    "    if not os.path.isfile(fp) :\n",
    "        log.info('Getting %s from server', fp)\n",
    "        os.makedirs(os.path.dirname(fp), exist_ok=True)\n",
    "        self.download_obs(obs, os.path.dirname(fp), cube, verbose)\n",
    "    else :\n",
    "        log.info('Getting %s from cache', fp)\n",
    "    content = open(fp,'rb')\n",
    "    try :\n",
    "        return content if cube else ZipFile(content)\n",
    "    except BadZipFile :\n",
    "        # Probably corrupted download. Try again once.\n",
    "        content.close()\n",
    "        os.remove(fp)\n",
    "        if recurse :\n",
    "            return self.get_obs(obs, cube, False, verbose)\n",
    "        else :\n",
    "            return None"
   ]
  },
  {
   "cell_type": "code",
   "execution_count": 27,
   "metadata": {},
   "outputs": [
    {
     "name": "stdout",
     "output_type": "stream",
     "text": [
      "OK_READY                      \n",
      "READY                         \n"
     ]
    },
    {
     "data": {
      "application/vnd.jupyter.widget-view+json": {
       "model_id": "75ac5036159d49c8bde0bb1242045cac",
       "version_major": 2,
       "version_minor": 0
      },
      "text/plain": [
       "  0%|          | 0.00/14.2M [00:00<?, ?iB/s]"
      ]
     },
     "metadata": {},
     "output_type": "display_data"
    },
    {
     "data": {
      "text/plain": [
       "(<zipfile.ZipFile file=<_io.BufferedReader name='.cache/jobs/3/8/383652.zip'> mode='r'>,\n",
       " <_io.BufferedReader name='.cache/jobs/3/8/383652.fits'>)"
      ]
     },
     "execution_count": 27,
     "metadata": {},
     "output_type": "execute_result"
    }
   ],
   "source": [
    "#| local\n",
    "(OSO.get_obs(OSO.get_job(last_complete), cube=False, verbose=True), \n",
    "OSO.get_obs(OSO.get_job(last_complete), cube=True, verbose=True),)"
   ]
  },
  {
   "cell_type": "markdown",
   "metadata": {},
   "source": [
    "### Job submission methods\n",
    "\n",
    "> Submission API"
   ]
  },
  {
   "cell_type": "code",
   "execution_count": 28,
   "metadata": {},
   "outputs": [],
   "source": [
    "#| export\n",
    "@patch\n",
    "def submit_job_api(self: Telescope, obj, exposure=30000, tele='COAST',\n",
    "                    filt='BVR', darkframe=True,\n",
    "                    name='RaDec object', comment='AutoSubmit'):\n",
    "    assert(self.s is not None)\n",
    "\n",
    "    log = logging.getLogger(__name__)\n",
    "\n",
    "    ra=obj.ra.to_string(unit='hour', sep=':', pad=True, precision=2,\n",
    "                        alwayssign=False)\n",
    "    dec=obj.dec.to_string(sep=':', pad=True, precision=2,\n",
    "                        alwayssign=True)\n",
    "    try :\n",
    "        tele=self.cameratypes[tele.lower()]\n",
    "    except KeyError :\n",
    "        log.warning('Wrong telescope: %d ; selecting COAST(6)', tele)\n",
    "        tele=6\n",
    "\n",
    "    if tele==7 :\n",
    "        if filt=='BVR' : filt='Colour'\n",
    "        if filt=='B' : filt='Blue'\n",
    "        if filt=='V' : filt='Green'\n",
    "        if filt=='R' : filt='Red'\n",
    "    if tele==6 :\n",
    "        if filt=='Colour' : filt='BVR'\n",
    "        if filt=='Blue' : filt='B'\n",
    "        if filt=='Green' : filt='V'\n",
    "        if filt=='Red' : filt='R'\n",
    "\n",
    "    params = {'telescopeid': tele, 'telescopetype': 2,\n",
    "              'exposuretime': exposure, 'filtertype': filt,\n",
    "              'objecttype': 'RADEC', 'objectname': name,\n",
    "              'objectid': ra+' '+dec, 'usercomments': comment }\n",
    "\n",
    "    self.do_rc_api(\"0-rb-clear\")\n",
    "\n",
    "    r = self.do_rc_api(\"0-rb-set\", params)\n",
    "    log.debug('Req data:%s', r)\n",
    "    if r['success'] :\n",
    "        r = self.do_rc_api(\"0-rb-submit\")\n",
    "        log.debug('Submission data:%s', r)\n",
    "    if r['success'] :\n",
    "        return True, r['data']['id']\n",
    "    else :\n",
    "        log.warning('Submission error. Status:%s', r['status'])\n",
    "        return False, r['status']"
   ]
  },
  {
   "cell_type": "markdown",
   "metadata": {},
   "source": [
    "### RADEC job submission"
   ]
  },
  {
   "cell_type": "code",
   "execution_count": 29,
   "metadata": {},
   "outputs": [],
   "source": [
    "#| export\n",
    "@patch\n",
    "def submit_RADEC_job(self: Telescope, obj, exposure=30000, tele='COAST',\n",
    "                    filt='BVR', darkframe=True,\n",
    "                    name='RaDec object', comment='AutoSubmit'):\n",
    "    assert(self.s is not None)\n",
    "\n",
    "    log = logging.getLogger(__name__)\n",
    "\n",
    "    ra=obj.ra.to_string(unit='hour', sep=' ',\n",
    "                        pad=True, precision=2,\n",
    "                        alwayssign=False).split()\n",
    "    dec=obj.dec.to_string(sep=' ',\n",
    "                        pad=True, precision=2,\n",
    "                        alwayssign=True).split()\n",
    "    try :\n",
    "        tele=self.cameratypes[tele.lower()]\n",
    "    except KeyError :\n",
    "        log.warning('Wrong telescope: %d ; selecting COAST(6)', tele)\n",
    "        tele=6\n",
    "\n",
    "    if tele==7 :\n",
    "        if filt=='BVR' : filt='Colour'\n",
    "        if filt=='B' : filt='Blue'\n",
    "        if filt=='V' : filt='Green'\n",
    "        if filt=='R' : filt='Red'\n",
    "    if tele==6 :\n",
    "        if filt=='Colour' : filt='BVR'\n",
    "        if filt=='Blue' : filt='B'\n",
    "        if filt=='Green' : filt='V'\n",
    "        if filt=='Red' : filt='R'\n",
    "\n",
    "    u=self.url+'/request-constructor.php'\n",
    "    r=self.s.get(u+'?action=new')\n",
    "    t=self.extract_ticket(r)\n",
    "    log.debug('GoTo Part 1 (ticket %s)', t)\n",
    "    r=self.s.post(u,data={'ticket':t,'action':'main-go-part1'})\n",
    "    t=self.extract_ticket(r)\n",
    "    log.debug('GoTo RADEC (ticket %s)', t)\n",
    "    r=self.s.post(u,data={'ticket':t,'action':'part1-go-radec'})\n",
    "    t=self.extract_ticket(r)\n",
    "    log.debug('Save RADEC (ticket %s)', t)\n",
    "    r=self.s.post(u,data={'ticket':t,'action':'part1-radec-save',\n",
    "                         'raHours':ra[0],\n",
    "                         'raMins':ra[1],\n",
    "                         'raSecs':ra[2].split('.')[0],\n",
    "                         'raFract':ra[2].split('.')[1],\n",
    "                         'decDegrees':dec[0],\n",
    "                         'decMins':dec[1],\n",
    "                         'decSecs':dec[2].split('.')[0],\n",
    "                         'decFract':dec[2].split('.')[1],\n",
    "                         'newObjectName':name})\n",
    "    t=self.extract_ticket(r)\n",
    "    log.debug('GoTo Part 2 (ticket %s)', t)\n",
    "    r=self.s.post(u,data={'ticket':t,'action':'main-go-part2'})\n",
    "    t=self.extract_ticket(r)\n",
    "    log.debug('Save Telescope (ticket %s)', t)\n",
    "    r=self.s.post(u,data={'ticket':t,\n",
    "                            'action':'part2-save',\n",
    "                            'submittype':'Save',\n",
    "                            'newTelescopeSelection':tele})\n",
    "    t=self.extract_ticket(r)\n",
    "    log.debug('GoTo Part 3 (ticket %s)', t)\n",
    "    r=self.s.post(u,data={'ticket':t,'action':'main-go-part3'})\n",
    "    t=self.extract_ticket(r)\n",
    "    log.debug('Save Exposure (ticket %s)', t)\n",
    "    r=self.s.post(u,data={'ticket':t,\n",
    "                            'action':'part3-save',\n",
    "                            'submittype':'Save',\n",
    "                            'newExposureTime':exposure,\n",
    "                            'newDarkFrame': 1 if darkframe else 0,\n",
    "                            'newFilterSelection':filt,\n",
    "                            'newRequestComments':comment})\n",
    "    t=self.extract_ticket(r)\n",
    "    log.debug('Submit (ticket %s)', t)\n",
    "    r=self.s.post(u,data={'ticket':t, 'action':'main-submit'})\n",
    "    return r"
   ]
  },
  {
   "cell_type": "markdown",
   "metadata": {},
   "source": [
    "### Typical variable star job submission"
   ]
  },
  {
   "cell_type": "code",
   "execution_count": 30,
   "metadata": {},
   "outputs": [],
   "source": [
    "#| export\n",
    "@patch\n",
    "def submitVarStar(self: Telescope, name, expos=90, filt='BVR',comm='', tele='COAST'):\n",
    "    o=SkyCoord.from_name(name)\n",
    "    return self.submit_job_api(o, name=name, comment=comm,\n",
    "                            exposure=expos*1000, filt=filt, tele=tele)"
   ]
  },
  {
   "cell_type": "code",
   "execution_count": 31,
   "metadata": {},
   "outputs": [],
   "source": [
    "#| local\n",
    "if False :\n",
    "    print(\"Submitting a VS job\")\n",
    "    rq = OSO.submitVarStar('V1223 Sgr', expos=180)\n",
    "    if rq[0] :\n",
    "        print(\"Waiting for job to be accepted\")\n",
    "        while (status:=OSO.get_request(int(rq[1]))['status'])!='Waiting' :\n",
    "            print(status, end='\\r')\n",
    "            sys.stdout.flush()\n",
    "            time.sleep(15)\n",
    "        print(status)\n",
    "        print(\"Cancelling the job\")\n",
    "        OSO.do_rm_api(\"0-cancel-request\", {'rid':int(rq[1])})\n",
    "        print(\"Waiting for job to be cancelled\")\n",
    "        while 'pending cancel' in (status:=OSO.get_request(int(rq[1]))['status']):\n",
    "            print(status, end='\\r')\n",
    "            sys.stdout.flush()\n",
    "            time.sleep(15)\n",
    "        print(status)\n",
    "    else :\n",
    "        print('Submission failed')"
   ]
  },
  {
   "cell_type": "code",
   "execution_count": 32,
   "metadata": {},
   "outputs": [
    {
     "name": "stdout",
     "output_type": "stream",
     "text": [
      "V1223 Sgr    2021-08-30 03:10:58 725917       Waiting\n",
      "V1223 Sgr    2021-08-29 19:13:52 725886       Cancelled\n",
      "V1223 Sgr    2021-08-28 18:43:05 725790       Cancelled\n",
      "V1223 Sgr    2021-08-28 18:11:15 725783       Cancelled\n",
      "V1223 Sgr    2021-08-28 18:03:06 725781       Cancelled\n",
      "V1223 Sgr    2021-08-28 17:51:38 725780       Cancelled\n",
      "V1223 Sgr    2021-08-28 14:51:45 725762       Cancelled\n",
      "EQ Lyr       2021-08-26 15:37:56 725595       Waiting\n",
      "DQ Vul       2021-08-26 15:37:54 725594       Complete\n",
      "DX Vul       2021-08-26 15:37:52 725593       Complete\n",
      "BI Her       2021-08-26 15:37:51 725592       Complete\n",
      "AS Lac       2021-08-26 15:37:49 725591       Complete\n",
      "V686 Cyg     2021-08-26 15:37:47 725590       Waiting\n",
      "IP Cyg       2021-08-26 15:37:46 725589       Waiting\n",
      "EU Cyg       2021-08-26 15:37:44 725588       Cancelled\n",
      "SS Cyg       2021-08-26 15:37:42 725587       Complete\n",
      "CH Cyg       2021-08-26 15:37:41 725586       Waiting\n",
      "BI Her       2021-08-18 21:34:34 724987       Complete\n",
      "EQ Lyr       2021-08-18 21:34:04 724986       Complete\n",
      "DQ Vul       2021-08-18 21:33:35 724985       Complete\n"
     ]
    }
   ],
   "source": [
    "#| local\n",
    "reqlst=OSO.get_user_requests(sort='completion')\n",
    "for rq in sorted(reqlst, key=lambda r: int(r['requesttime']), reverse=True)[:20]:\n",
    "    print(f\"{rq['objectname']:12}\", \n",
    "          f\"{datetime.datetime.fromtimestamp(int(rq['requesttime']))}\",\n",
    "          f\"{rq['id']:12}\",\n",
    "          f\"{Telescope.REQUESTSTATUS_TEXTS[int(rq['status'])]}\"\n",
    "         )"
   ]
  },
  {
   "cell_type": "code",
   "execution_count": 33,
   "metadata": {},
   "outputs": [],
   "source": [
    "#| local\n",
    "OSO.logout()"
   ]
  },
  {
   "cell_type": "code",
   "execution_count": 34,
   "metadata": {},
   "outputs": [
    {
     "name": "stdout",
     "output_type": "stream",
     "text": [
      "Converted 00_core.ipynb.\n",
      "Converted 01_solver.ipynb.\n",
      "Converted 02_process.ipynb.\n",
      "Converted index.ipynb.\n"
     ]
    }
   ],
   "source": [
    "from nbdev import nbdev_export; nbdev_export()"
   ]
  }
 ],
 "metadata": {
  "kernelspec": {
   "display_name": "Python 3 (ipykernel)",
   "language": "python",
   "name": "python3"
  },
  "language_info": {
   "codemirror_mode": {
    "name": "ipython",
    "version": 3
   },
   "file_extension": ".py",
   "mimetype": "text/x-python",
   "name": "python",
   "nbconvert_exporter": "python",
   "pygments_lexer": "ipython3",
   "version": "3.9.13"
  }
 },
 "nbformat": 4,
 "nbformat_minor": 4
}
