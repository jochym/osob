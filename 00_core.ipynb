{
 "cells": [
  {
   "cell_type": "code",
   "execution_count": null,
   "metadata": {},
   "outputs": [],
   "source": [
    "# default_exp core"
   ]
  },
  {
   "cell_type": "markdown",
   "metadata": {},
   "source": [
    "# osob\n",
    "\n",
    "> This is a python module providing communication abstractions for the OpenScience Observatories telescope.org service"
   ]
  },
  {
   "cell_type": "code",
   "execution_count": null,
   "metadata": {},
   "outputs": [],
   "source": [
    "#hide\n",
    "from nbdev.showdoc import *\n",
    "from nbdev import *"
   ]
  },
  {
   "cell_type": "code",
   "execution_count": null,
   "metadata": {},
   "outputs": [],
   "source": [
    "import logging\n",
    "from requests import session\n",
    "import configparser\n",
    "from os.path import expanduser"
   ]
  },
  {
   "cell_type": "markdown",
   "metadata": {},
   "source": [
    "## Telescope class\n",
    "\n",
    "This class orginizes all interaction with the service. It keeps all state and provides higher level functions like `login` or `get_user_requests`."
   ]
  },
  {
   "cell_type": "code",
   "execution_count": null,
   "metadata": {},
   "outputs": [],
   "source": [
    "#export\n",
    "class Telescope :\n",
    "\n",
    "    url='https://www.telescope.org/'\n",
    "    cameratypes={\n",
    "        'constellation':'1',\n",
    "        'galaxy':       '2',\n",
    "        'cluster':      '3',\n",
    "        'planet':'5',\n",
    "        'coast':'6',\n",
    "        'pirate':'7',\n",
    "    }\n",
    "\n",
    "    REQUESTSTATUS_TEXTS={\n",
    "        1: \"New\",\n",
    "        2: \"New, allocated\",\n",
    "        3: \"Waiting\",\n",
    "        4: \"In progress\",\n",
    "        5: \"Reallocate\",\n",
    "        6: \"Waiting again\",\n",
    "        7: \"Complete on site\",\n",
    "        8: \"Complete\",\n",
    "        9: \"Hold\",\n",
    "        10: \"Frozen\",\n",
    "        20: \"Expired\",\n",
    "        21: \"Expired w/CJobs\",\n",
    "        22: \"Cancelled\",\n",
    "        23: \"Cancelled w/CJobs\",\n",
    "        24: \"Invalid\",\n",
    "        25: \"Never rises\",\n",
    "        26: \"Other error\",\n",
    "    }\n",
    "\n",
    "    def __init__(self,user,passwd,cache='.cache/jobs'):\n",
    "        self.s=None\n",
    "        self.user=user\n",
    "        self.passwd=passwd\n",
    "        self.tout=60\n",
    "        self.retry=15\n",
    "        self.login()\n",
    "        self.cache=cache\n",
    "\n",
    "    def login(self):\n",
    "        log = logging.getLogger(__name__)\n",
    "        payload = {'action': 'login',\n",
    "                   'username': self.user,\n",
    "                   'password': self.passwd,\n",
    "                   'stayloggedin': 'true'}\n",
    "        log.debug('Get session ...')\n",
    "        self.s=session()\n",
    "        log.debug('Logging in ...')\n",
    "        self.s.post(self.url+'login.php', data=payload)\n",
    "\n",
    "    def logout(self):\n",
    "        if self.s is None :\n",
    "            self.s.post(self.url+'logout.php')\n",
    "            self.s=None"
   ]
  },
  {
   "cell_type": "code",
   "execution_count": null,
   "metadata": {},
   "outputs": [
    {
     "data": {
      "text/plain": [
       "['/home/jochym/.config/telescope.ini']"
      ]
     },
     "execution_count": null,
     "metadata": {},
     "output_type": "execute_result"
    }
   ],
   "source": [
    "config = configparser.ConfigParser()\n",
    "config.read(expanduser('~/.config/telescope.ini'))"
   ]
  },
  {
   "cell_type": "code",
   "execution_count": null,
   "metadata": {},
   "outputs": [],
   "source": [
    "OSO=Telescope(config['telescope.org']['user'], \n",
    "              config['telescope.org']['password'])"
   ]
  },
  {
   "cell_type": "code",
   "execution_count": null,
   "metadata": {},
   "outputs": [],
   "source": [
    "OSO.logout()"
   ]
  },
  {
   "cell_type": "code",
   "execution_count": null,
   "metadata": {},
   "outputs": [],
   "source": []
  }
 ],
 "metadata": {
  "kernelspec": {
   "display_name": "Python 3",
   "language": "python",
   "name": "python3"
  }
 },
 "nbformat": 4,
 "nbformat_minor": 4
}
