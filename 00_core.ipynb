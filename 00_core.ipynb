{
 "cells": [
  {
   "cell_type": "code",
   "execution_count": null,
   "metadata": {},
   "outputs": [],
   "source": [
    "# default_exp core"
   ]
  },
  {
   "cell_type": "markdown",
   "metadata": {},
   "source": [
    "# osob\n",
    "\n",
    "> This is a python module providing communication abstractions for the OpenScience Observatories telescope.org service"
   ]
  },
  {
   "cell_type": "code",
   "execution_count": null,
   "metadata": {},
   "outputs": [],
   "source": [
    "#hide\n",
    "from nbdev.showdoc import *\n",
    "from nbdev import *"
   ]
  },
  {
   "cell_type": "code",
   "execution_count": null,
   "metadata": {},
   "outputs": [],
   "source": [
    "#export\n",
    "import logging\n",
    "from requests import session\n",
    "import configparser\n",
    "from os.path import expanduser\n",
    "import json\n",
    "from fastcore.basics import patch"
   ]
  },
  {
   "cell_type": "markdown",
   "metadata": {},
   "source": [
    "## Telescope class\n",
    "\n",
    "This class orginizes all interaction with the service. It keeps all state and provides higher level functions like `login` or `get_user_requests`."
   ]
  },
  {
   "cell_type": "code",
   "execution_count": null,
   "metadata": {},
   "outputs": [],
   "source": [
    "#export\n",
    "class Telescope :\n",
    "\n",
    "    url='https://www.telescope.org/'\n",
    "    cameratypes={\n",
    "        'constellation':'1',\n",
    "        'galaxy':       '2',\n",
    "        'cluster':      '3',\n",
    "        'planet':'5',\n",
    "        'coast':'6',\n",
    "        'pirate':'7',\n",
    "    }\n",
    "\n",
    "    REQUESTSTATUS_TEXTS={\n",
    "        1: \"New\",\n",
    "        2: \"New, allocated\",\n",
    "        3: \"Waiting\",\n",
    "        4: \"In progress\",\n",
    "        5: \"Reallocate\",\n",
    "        6: \"Waiting again\",\n",
    "        7: \"Complete on site\",\n",
    "        8: \"Complete\",\n",
    "        9: \"Hold\",\n",
    "        10: \"Frozen\",\n",
    "        20: \"Expired\",\n",
    "        21: \"Expired w/CJobs\",\n",
    "        22: \"Cancelled\",\n",
    "        23: \"Cancelled w/CJobs\",\n",
    "        24: \"Invalid\",\n",
    "        25: \"Never rises\",\n",
    "        26: \"Other error\",\n",
    "    }\n",
    "\n",
    "    def __init__(self,user,passwd,cache='.cache/jobs'):\n",
    "        self.s=None\n",
    "        self.user=user\n",
    "        self.passwd=passwd\n",
    "        self.tout=60\n",
    "        self.retry=15\n",
    "        self.login()\n",
    "        self.cache=cache"
   ]
  },
  {
   "cell_type": "code",
   "execution_count": null,
   "metadata": {},
   "outputs": [],
   "source": [
    "#export\n",
    "@patch\n",
    "def login(self: Telescope):\n",
    "    log = logging.getLogger(__name__)\n",
    "    payload = {'action': 'login',\n",
    "               'username': self.user,\n",
    "               'password': self.passwd,\n",
    "               'stayloggedin': 'true'}\n",
    "    log.debug('Get session ...')\n",
    "    self.s=session()\n",
    "    log.debug('Logging in ...')\n",
    "    self.s.post(self.url+'login.php', data=payload)"
   ]
  },
  {
   "cell_type": "code",
   "execution_count": null,
   "metadata": {},
   "outputs": [],
   "source": [
    "#export\n",
    "@patch\n",
    "def logout(self: Telescope):\n",
    "    if self.s is None :\n",
    "        self.s.post(self.url+'logout.php')\n",
    "        self.s=None\n",
    " "
   ]
  },
  {
   "cell_type": "code",
   "execution_count": null,
   "metadata": {},
   "outputs": [
    {
     "data": {
      "text/plain": [
       "['/home/jochym/.config/telescope.ini']"
      ]
     },
     "execution_count": null,
     "metadata": {},
     "output_type": "execute_result"
    }
   ],
   "source": [
    "#local\n",
    "config = configparser.ConfigParser()\n",
    "config.read(expanduser('~/.config/telescope.ini'))"
   ]
  },
  {
   "cell_type": "code",
   "execution_count": null,
   "metadata": {},
   "outputs": [],
   "source": [
    "#local\n",
    "OSO=Telescope(config['telescope.org']['user'], \n",
    "              config['telescope.org']['password'])"
   ]
  },
  {
   "cell_type": "code",
   "execution_count": null,
   "metadata": {},
   "outputs": [],
   "source": [
    "#export\n",
    "@patch\n",
    "def get_user_requests(self: Telescope, sort='rid', folder=1):\n",
    "    '''\n",
    "    Get all user requests from folder (Inbox=1 by default),\n",
    "    sorted by sort column ('rid' by default). \n",
    "    Possible sort columns are: 'rid', 'object', 'completion'\n",
    "    The data is returned as a list of dictionaries.\n",
    "    '''\n",
    "\n",
    "    #fetch first batch        \n",
    "    params={\n",
    "        'limit': 100,\n",
    "        'sort': sort,\n",
    "        'folderid': folder}\n",
    "\n",
    "    rq = self.s.post(self.url+\"api-user.php\", {'module': \"request-manager\", \n",
    "                                               'request': \"1-get-list-own\",\n",
    "                                               'params' : json.dumps(params)})\n",
    "    res=[]\n",
    "    dat=json.loads(rq.content)\n",
    "    total=int(dat['data']['totalRequests'])\n",
    "    res+=dat['data']['requests']\n",
    "\n",
    "    # Fetch the rest\n",
    "    params['limit']=total-len(res)\n",
    "    params['startAfterRow']=len(res)\n",
    "    rq = self.s.post(self.url+\"api-user.php\", {'module': \"request-manager\", \n",
    "                                               'request': \"1-get-list-own\",\n",
    "                                               'params' : json.dumps(params)})\n",
    "\n",
    "    dat=json.loads(rq.content)\n",
    "    total=int(dat['data']['totalRequests'])\n",
    "    res+=dat['data']['requests']\n",
    "    return res"
   ]
  },
  {
   "cell_type": "code",
   "execution_count": null,
   "metadata": {},
   "outputs": [
    {
     "name": "stdout",
     "output_type": "stream",
     "text": [
      "Number of users requests: 1162\n"
     ]
    },
    {
     "data": {
      "text/plain": [
       "[{'id': '685130',\n",
       "  'seen': '0',\n",
       "  'usercomments': 'Mira',\n",
       "  'objecttype': 'RADEC',\n",
       "  'objectid': '19:19:02.60 +41:06:34.24',\n",
       "  'objectname': 'EQ Lyr',\n",
       "  'requesttime': '1589275435',\n",
       "  'status': '8',\n",
       "  'row': '1'},\n",
       " {'id': '685129',\n",
       "  'seen': '0',\n",
       "  'usercomments': 'Mira',\n",
       "  'objecttype': 'RADEC',\n",
       "  'objectid': '20:00:03.02 +22:46:51.55',\n",
       "  'objectname': 'DQ Vul',\n",
       "  'requesttime': '1589275435',\n",
       "  'status': '8',\n",
       "  'row': '2'}]"
      ]
     },
     "execution_count": null,
     "metadata": {},
     "output_type": "execute_result"
    }
   ],
   "source": [
    "#local\n",
    "reqlst=OSO.get_user_requests(sort='completion')\n",
    "print(f'Number of users requests: {len(reqlst)}')\n",
    "reqlst[:2]"
   ]
  },
  {
   "cell_type": "code",
   "execution_count": null,
   "metadata": {},
   "outputs": [],
   "source": [
    "#export\n",
    "@patch\n",
    "def get_user_folders(self: Telescope):\n",
    "    '''\n",
    "    Get all user folders. Returns list of dictionaries.\n",
    "    '''\n",
    "    rq = self.s.post(self.url+\"api-user.php\", {'module': \"request-manager\", \n",
    "                                               'request': \"0-get-my-folders\"})\n",
    "    return json.loads(rq.content)['data']"
   ]
  },
  {
   "cell_type": "code",
   "execution_count": null,
   "metadata": {},
   "outputs": [
    {
     "data": {
      "text/plain": [
       "[{'id': '1', 'creationtime': '0', 'name': 'Inbox', 'count': '1162'},\n",
       " {'id': '2', 'creationtime': '0', 'name': 'Favourites', 'count': None},\n",
       " {'id': '3', 'creationtime': '0', 'name': 'Archive', 'count': '447'},\n",
       " {'id': '4', 'creationtime': '0', 'name': 'Trash', 'count': '52'},\n",
       " {'id': '461',\n",
       "  'creationtime': '1407254495',\n",
       "  'name': 'Complete',\n",
       "  'count': '13'}]"
      ]
     },
     "execution_count": null,
     "metadata": {},
     "output_type": "execute_result"
    }
   ],
   "source": [
    "#local\n",
    "OSO.get_user_folders()"
   ]
  },
  {
   "cell_type": "code",
   "execution_count": null,
   "metadata": {},
   "outputs": [],
   "source": [
    "#local\n",
    "OSO.logout()"
   ]
  }
 ],
 "metadata": {
  "kernelspec": {
   "display_name": "Python 3",
   "language": "python",
   "name": "python3"
  }
 },
 "nbformat": 4,
 "nbformat_minor": 4
}
